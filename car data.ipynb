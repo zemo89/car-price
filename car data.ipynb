{
 "cells": [
  {
   "cell_type": "code",
   "execution_count": 1,
   "metadata": {},
   "outputs": [
    {
     "data": {
      "text/html": [
       "        <script type=\"text/javascript\">\n",
       "        window.PlotlyConfig = {MathJaxConfig: 'local'};\n",
       "        if (window.MathJax) {MathJax.Hub.Config({SVG: {font: \"STIX-Web\"}});}\n",
       "        if (typeof require !== 'undefined') {\n",
       "        require.undef(\"plotly\");\n",
       "        requirejs.config({\n",
       "            paths: {\n",
       "                'plotly': ['https://cdn.plot.ly/plotly-latest.min']\n",
       "            }\n",
       "        });\n",
       "        require(['plotly'], function(Plotly) {\n",
       "            window._Plotly = Plotly;\n",
       "        });\n",
       "        }\n",
       "        </script>\n",
       "        "
      ]
     },
     "metadata": {},
     "output_type": "display_data"
    },
    {
     "data": {
      "text/html": [
       "        <script type=\"text/javascript\">\n",
       "        window.PlotlyConfig = {MathJaxConfig: 'local'};\n",
       "        if (window.MathJax) {MathJax.Hub.Config({SVG: {font: \"STIX-Web\"}});}\n",
       "        if (typeof require !== 'undefined') {\n",
       "        require.undef(\"plotly\");\n",
       "        requirejs.config({\n",
       "            paths: {\n",
       "                'plotly': ['https://cdn.plot.ly/plotly-latest.min']\n",
       "            }\n",
       "        });\n",
       "        require(['plotly'], function(Plotly) {\n",
       "            window._Plotly = Plotly;\n",
       "        });\n",
       "        }\n",
       "        </script>\n",
       "        "
      ]
     },
     "metadata": {},
     "output_type": "display_data"
    },
    {
     "data": {
      "text/html": [
       "<div>\n",
       "<style scoped>\n",
       "    .dataframe tbody tr th:only-of-type {\n",
       "        vertical-align: middle;\n",
       "    }\n",
       "\n",
       "    .dataframe tbody tr th {\n",
       "        vertical-align: top;\n",
       "    }\n",
       "\n",
       "    .dataframe thead th {\n",
       "        text-align: right;\n",
       "    }\n",
       "</style>\n",
       "<table border=\"1\" class=\"dataframe\">\n",
       "  <thead>\n",
       "    <tr style=\"text-align: right;\">\n",
       "      <th></th>\n",
       "      <th>Car_Name</th>\n",
       "      <th>Year</th>\n",
       "      <th>Selling_Price</th>\n",
       "      <th>Present_Price</th>\n",
       "      <th>Kms_Driven</th>\n",
       "      <th>Fuel_Type</th>\n",
       "      <th>Seller_Type</th>\n",
       "      <th>Transmission</th>\n",
       "      <th>Owner</th>\n",
       "    </tr>\n",
       "  </thead>\n",
       "  <tbody>\n",
       "    <tr>\n",
       "      <th>0</th>\n",
       "      <td>ritz</td>\n",
       "      <td>2014</td>\n",
       "      <td>3.35</td>\n",
       "      <td>5.59</td>\n",
       "      <td>27000</td>\n",
       "      <td>Petrol</td>\n",
       "      <td>Dealer</td>\n",
       "      <td>Manual</td>\n",
       "      <td>0</td>\n",
       "    </tr>\n",
       "    <tr>\n",
       "      <th>1</th>\n",
       "      <td>sx4</td>\n",
       "      <td>2013</td>\n",
       "      <td>4.75</td>\n",
       "      <td>9.54</td>\n",
       "      <td>43000</td>\n",
       "      <td>Diesel</td>\n",
       "      <td>Dealer</td>\n",
       "      <td>Manual</td>\n",
       "      <td>0</td>\n",
       "    </tr>\n",
       "    <tr>\n",
       "      <th>2</th>\n",
       "      <td>ciaz</td>\n",
       "      <td>2017</td>\n",
       "      <td>7.25</td>\n",
       "      <td>9.85</td>\n",
       "      <td>6900</td>\n",
       "      <td>Petrol</td>\n",
       "      <td>Dealer</td>\n",
       "      <td>Manual</td>\n",
       "      <td>0</td>\n",
       "    </tr>\n",
       "    <tr>\n",
       "      <th>3</th>\n",
       "      <td>wagon r</td>\n",
       "      <td>2011</td>\n",
       "      <td>2.85</td>\n",
       "      <td>4.15</td>\n",
       "      <td>5200</td>\n",
       "      <td>Petrol</td>\n",
       "      <td>Dealer</td>\n",
       "      <td>Manual</td>\n",
       "      <td>0</td>\n",
       "    </tr>\n",
       "    <tr>\n",
       "      <th>4</th>\n",
       "      <td>swift</td>\n",
       "      <td>2014</td>\n",
       "      <td>4.60</td>\n",
       "      <td>6.87</td>\n",
       "      <td>42450</td>\n",
       "      <td>Diesel</td>\n",
       "      <td>Dealer</td>\n",
       "      <td>Manual</td>\n",
       "      <td>0</td>\n",
       "    </tr>\n",
       "  </tbody>\n",
       "</table>\n",
       "</div>"
      ],
      "text/plain": [
       "  Car_Name  Year  Selling_Price  Present_Price  Kms_Driven Fuel_Type  \\\n",
       "0     ritz  2014           3.35           5.59       27000    Petrol   \n",
       "1      sx4  2013           4.75           9.54       43000    Diesel   \n",
       "2     ciaz  2017           7.25           9.85        6900    Petrol   \n",
       "3  wagon r  2011           2.85           4.15        5200    Petrol   \n",
       "4    swift  2014           4.60           6.87       42450    Diesel   \n",
       "\n",
       "  Seller_Type Transmission  Owner  \n",
       "0      Dealer       Manual      0  \n",
       "1      Dealer       Manual      0  \n",
       "2      Dealer       Manual      0  \n",
       "3      Dealer       Manual      0  \n",
       "4      Dealer       Manual      0  "
      ]
     },
     "execution_count": 1,
     "metadata": {},
     "output_type": "execute_result"
    }
   ],
   "source": [
    "try:\n",
    "    import warnings\n",
    "    import numpy as np\n",
    "    import pandas as pd\n",
    "    import seaborn as sns\n",
    "    import cufflinks as cf\n",
    "    import plotly.graph_objects as go\n",
    "    import plotly.express as px\n",
    "    from sklearn import linear_model\n",
    "    import chart_studio.plotly as py\n",
    "    import matplotlib.pyplot as plt\n",
    "    from sklearn.preprocessing import LabelEncoder\n",
    "    from sklearn.ensemble import RandomForestRegressor\n",
    "    from sklearn.model_selection import train_test_split\n",
    "    from sklearn.model_selection import RandomizedSearchCV\n",
    "    from sklearn.ensemble import ExtraTreesRegressor\n",
    "    from sklearn.metrics import mean_squared_error , r2_score\n",
    "    warnings.filterwarnings('ignore')\n",
    "    from plotly.offline import download_plotlyjs , plot , iplot , init_notebook_mode\n",
    "    init_notebook_mode(connected = True)\n",
    "    cf.go_offline()\n",
    "    \n",
    "except ModuleNotFoundError as e:\n",
    "    print(e)\n",
    "\n",
    "car_data = pd.read_csv(\"car data.csv\")\n",
    "car_data.head()"
   ]
  },
  {
   "cell_type": "code",
   "execution_count": 2,
   "metadata": {
    "scrolled": false
   },
   "outputs": [
    {
     "name": "stdout",
     "output_type": "stream",
     "text": [
      "shape of our dataset\n",
      "number of rows :  301 number of columns :  9\n",
      "**************\n",
      "              Year  Selling_Price  Present_Price     Kms_Driven       Owner\n",
      "count   301.000000     301.000000     301.000000     301.000000  301.000000\n",
      "mean   2013.627907       4.661296       7.628472   36947.205980    0.043189\n",
      "std       2.891554       5.082812       8.644115   38886.883882    0.247915\n",
      "min    2003.000000       0.100000       0.320000     500.000000    0.000000\n",
      "25%    2012.000000       0.900000       1.200000   15000.000000    0.000000\n",
      "50%    2014.000000       3.600000       6.400000   32000.000000    0.000000\n",
      "75%    2016.000000       6.000000       9.900000   48767.000000    0.000000\n",
      "max    2018.000000      35.000000      92.600000  500000.000000    3.000000\n",
      "**************\n",
      "Car_Name         0\n",
      "Year             0\n",
      "Selling_Price    0\n",
      "Present_Price    0\n",
      "Kms_Driven       0\n",
      "Fuel_Type        0\n",
      "Seller_Type      0\n",
      "Transmission     0\n",
      "Owner            0\n",
      "dtype: int64\n",
      "**************\n",
      "Total Cars fuel type \n",
      "{'Petrol': 239, 'Diesel': 60, 'CNG': 2}\n",
      "\n",
      "Total Cars by transmission : \n",
      "{'Manual': 261, 'Automatic': 40}\n",
      "\n",
      "Car Seller Type \n",
      "{'Dealer': 195, 'Individual': 106}\n",
      "\n",
      "Total Year Count \n",
      "{2014: 38, 2013: 33, 2017: 35, 2011: 19, 2018: 1, 2015: 61, 2016: 50, 2009: 6, 2010: 15, 2012: 23, 2003: 2, 2008: 7, 2006: 4, 2005: 4, 2004: 1, 2007: 2}\n"
     ]
    }
   ],
   "source": [
    "class Eda:\n",
    "    def shape(self,dataset):\n",
    "        print('number of rows : ',dataset.shape[0],'number of columns : ',dataset.shape[1])\n",
    "        \n",
    "    def description(self,dataset):\n",
    "        return dataset.describe()\n",
    "    \n",
    "    def null_values(self,dataset):\n",
    "        return dataset.isnull().sum()\n",
    "   \n",
    "    def car_by_fuel_type(self,dataset):\n",
    "        total_cars_by_value = {}\n",
    "        for cols in dataset['Fuel_Type']:\n",
    "            if cols not in total_cars_by_value:\n",
    "                total_cars_by_value[cols] = 1\n",
    "            else:\n",
    "                total_cars_by_value[cols] = total_cars_by_value[cols] + 1\n",
    "        print(total_cars_by_value)\n",
    "        \n",
    "    def car_by_transmission(self,dataset):\n",
    "        transmission = {}\n",
    "        for cols in dataset['Transmission']:\n",
    "            if cols not in transmission:\n",
    "                transmission[cols] = 1\n",
    "            else:\n",
    "                transmission[cols] = transmission[cols] + 1\n",
    "        print(transmission)\n",
    "        \n",
    "    def seller(self,dataset):\n",
    "        seller = {}\n",
    "        for cols in dataset['Seller_Type']:\n",
    "            if cols not in seller:\n",
    "                seller[cols] = 1\n",
    "            else:\n",
    "                seller[cols] = seller[cols] + 1\n",
    "        print(seller)\n",
    "    \n",
    "    def total_years(self,dataset):\n",
    "        year_count = {}\n",
    "        for cols in dataset['Year']:\n",
    "            if cols not in year_count:\n",
    "                year_count[cols] = 1\n",
    "            else:\n",
    "                year_count[cols] = year_count[cols] + 1\n",
    "        print(year_count)\n",
    "            \n",
    "e = Eda()\n",
    "print('shape of our dataset')\n",
    "e.shape(car_data)\n",
    "print('**************')\n",
    "x = e.description(car_data)\n",
    "print(x)\n",
    "print('**************')\n",
    "y = e.null_values(car_data)\n",
    "print(y)\n",
    "print('**************')\n",
    "print('Total Cars fuel type ')\n",
    "e.car_by_fuel_type(car_data)\n",
    "print()\n",
    "print('Total Cars by transmission : ')\n",
    "e.car_by_transmission(car_data)\n",
    "print()\n",
    "print('Car Seller Type ')\n",
    "e.seller(car_data)\n",
    "print()\n",
    "print('Total Year Count ')\n",
    "e.total_years(car_data)"
   ]
  },
  {
   "cell_type": "code",
   "execution_count": 3,
   "metadata": {},
   "outputs": [],
   "source": [
    "class Feature_extraction:\n",
    "    \n",
    "    def create_feature(self,dataset):\n",
    "        dataset['Current_year'] = 2020\n",
    "        \n",
    "    def year_difference(self,dataset):\n",
    "        dataset['Difference'] = dataset['Current_year'] - dataset[\"Year\"]\n",
    "        \n",
    "    def get_dummies(self,dataset):\n",
    "        return pd.get_dummies(dataset[['Fuel_Type','Seller_Type','Transmission']]\n",
    "                              ,drop_first=True)\n",
    "    \n",
    "    def concat_datasets(self,dataset,new_dataset):\n",
    "        return pd.concat([dataset,new_dataset],axis = 1)\n",
    "    \n",
    "    def drop_unwanted(self,dataset):\n",
    "        return dataset.drop(['Car_Name','Year','Fuel_Type','Seller_Type','Transmission',\n",
    "                             'Current_year'], axis = 1)\n",
    "                           \n",
    "    \n",
    "f = Feature_extraction()\n",
    "f.create_feature(car_data)\n",
    "f.year_difference(car_data)\n",
    "new_dataset = f.get_dummies(car_data)\n",
    "car_dataset = f.concat_datasets(car_data,new_dataset)\n",
    "new_car_dataset = f.drop_unwanted(car_dataset)"
   ]
  },
  {
   "cell_type": "code",
   "execution_count": 4,
   "metadata": {
    "scrolled": false
   },
   "outputs": [
    {
     "data": {
      "application/vnd.plotly.v1+json": {
       "config": {
        "plotlyServerURL": "https://plot.ly"
       },
       "data": [
        {
         "alignmentgroup": "True",
         "hovertemplate": "Transmission=%{x}<br>Fuel_Type=Petrol<br>Selling_Price=%{y}<extra></extra>",
         "legendgroup": "Manual",
         "marker": {
          "color": "#636efa"
         },
         "name": "Manual",
         "offsetgroup": "Manual",
         "orientation": "v",
         "showlegend": true,
         "textposition": "auto",
         "type": "bar",
         "x": [
          "Manual",
          "Manual",
          "Manual",
          "Manual",
          "Manual",
          "Manual",
          "Manual",
          "Manual",
          "Manual",
          "Manual",
          "Manual",
          "Manual",
          "Manual",
          "Manual",
          "Manual",
          "Manual",
          "Manual",
          "Manual",
          "Manual",
          "Manual",
          "Manual",
          "Manual",
          "Manual",
          "Manual",
          "Manual",
          "Manual",
          "Manual",
          "Manual",
          "Manual",
          "Manual",
          "Manual",
          "Manual",
          "Manual",
          "Manual",
          "Manual",
          "Manual",
          "Manual",
          "Manual",
          "Manual",
          "Manual",
          "Manual",
          "Manual",
          "Manual",
          "Manual",
          "Manual",
          "Manual",
          "Manual",
          "Manual",
          "Manual",
          "Manual",
          "Manual",
          "Manual",
          "Manual",
          "Manual",
          "Manual",
          "Manual",
          "Manual",
          "Manual",
          "Manual",
          "Manual",
          "Manual",
          "Manual",
          "Manual",
          "Manual",
          "Manual",
          "Manual",
          "Manual",
          "Manual",
          "Manual",
          "Manual",
          "Manual",
          "Manual",
          "Manual",
          "Manual",
          "Manual",
          "Manual",
          "Manual",
          "Manual",
          "Manual",
          "Manual",
          "Manual",
          "Manual",
          "Manual",
          "Manual",
          "Manual",
          "Manual",
          "Manual",
          "Manual",
          "Manual",
          "Manual",
          "Manual",
          "Manual",
          "Manual",
          "Manual",
          "Manual",
          "Manual",
          "Manual",
          "Manual",
          "Manual",
          "Manual",
          "Manual",
          "Manual",
          "Manual",
          "Manual",
          "Manual",
          "Manual",
          "Manual",
          "Manual",
          "Manual",
          "Manual",
          "Manual",
          "Manual",
          "Manual",
          "Manual",
          "Manual",
          "Manual",
          "Manual",
          "Manual",
          "Manual",
          "Manual",
          "Manual",
          "Manual",
          "Manual",
          "Manual",
          "Manual",
          "Manual",
          "Manual",
          "Manual",
          "Manual",
          "Manual",
          "Manual",
          "Manual",
          "Manual",
          "Manual",
          "Manual",
          "Manual",
          "Manual",
          "Manual",
          "Manual",
          "Manual",
          "Manual",
          "Manual",
          "Manual",
          "Manual",
          "Manual",
          "Manual",
          "Manual",
          "Manual",
          "Manual",
          "Manual",
          "Manual",
          "Manual",
          "Manual",
          "Manual",
          "Manual",
          "Manual",
          "Manual",
          "Manual",
          "Manual",
          "Manual",
          "Manual",
          "Manual",
          "Manual",
          "Manual",
          "Manual",
          "Manual",
          "Manual",
          "Manual",
          "Manual",
          "Manual",
          "Manual",
          "Manual",
          "Manual",
          "Manual",
          "Manual",
          "Manual",
          "Manual",
          "Manual",
          "Manual",
          "Manual",
          "Manual",
          "Manual",
          "Manual",
          "Manual",
          "Manual",
          "Manual",
          "Manual",
          "Manual",
          "Manual",
          "Manual",
          "Manual",
          "Manual",
          "Manual",
          "Manual",
          "Manual",
          "Manual",
          "Manual",
          "Manual",
          "Manual",
          "Manual",
          "Manual",
          "Manual",
          "Manual",
          "Manual",
          "Manual",
          "Manual",
          "Manual",
          "Manual",
          "Manual",
          "Manual",
          "Manual"
         ],
         "xaxis": "x",
         "y": [
          3.35,
          7.25,
          2.85,
          6.75,
          2.85,
          6.1,
          2.25,
          2.65,
          2.85,
          4.9,
          2.5,
          2.9,
          3,
          4.15,
          6,
          1.95,
          2.35,
          4.65,
          0.35,
          3,
          2.25,
          2.55,
          1.95,
          1.25,
          2.65,
          1.05,
          5.8,
          2.75,
          4.5,
          4.75,
          4.1,
          6.95,
          4.5,
          4.35,
          14.25,
          7.45,
          2.65,
          3.95,
          5.5,
          5.9,
          3.45,
          4.75,
          3.8,
          3.51,
          5.85,
          17,
          7.05,
          1.75,
          1.7,
          1.65,
          1.45,
          1.35,
          1.35,
          1.35,
          1.25,
          1.2,
          1.2,
          1.2,
          1.15,
          1.15,
          1.15,
          1.15,
          1.11,
          1.1,
          1.1,
          1.1,
          1.05,
          1.05,
          1.05,
          1.05,
          1,
          0.95,
          0.9,
          0.9,
          0.75,
          0.8,
          0.78,
          0.75,
          0.75,
          0.75,
          0.72,
          0.65,
          0.65,
          0.65,
          0.65,
          0.6,
          0.6,
          0.6,
          0.6,
          0.6,
          0.6,
          0.6,
          0.6,
          0.55,
          0.55,
          0.52,
          0.51,
          0.5,
          0.5,
          0.5,
          0.5,
          0.5,
          0.48,
          0.48,
          0.48,
          0.45,
          0.45,
          0.45,
          0.45,
          0.45,
          0.45,
          0.42,
          0.42,
          0.4,
          0.4,
          0.4,
          0.4,
          0.38,
          0.38,
          0.35,
          0.31,
          0.3,
          0.3,
          0.3,
          0.27,
          0.25,
          0.25,
          0.25,
          0.2,
          0.2,
          0.2,
          0.2,
          0.2,
          0.2,
          0.18,
          0.16,
          0.15,
          0.12,
          0.1,
          4.4,
          2.95,
          2.75,
          5.25,
          5.75,
          7.9,
          3.1,
          11.25,
          2.9,
          5.25,
          4.5,
          2.9,
          3.15,
          6.45,
          4.5,
          3.5,
          2.7,
          5.25,
          2.55,
          9.25,
          5.5,
          9.1,
          3.1,
          4.8,
          2,
          4.75,
          4.4,
          6.25,
          3.75,
          5.95,
          4,
          5.25,
          5,
          5.25,
          3,
          10.25,
          8.5,
          8.4,
          3.9,
          9.15,
          5.5,
          4,
          6.6,
          4,
          6.5,
          3.65,
          4.8,
          6.7,
          4.1,
          3,
          7.5,
          2.25,
          5.3,
          8.65,
          9.7,
          6,
          6.25,
          5.25,
          2.1,
          8.99,
          3.5,
          5.65,
          8.4,
          10.11,
          4.5,
          5.4,
          6.4,
          3.25,
          3.75,
          4,
          3.35,
          5.3
         ],
         "yaxis": "y"
        },
        {
         "alignmentgroup": "True",
         "hovertemplate": "Transmission=%{x}<br>Fuel_Type=Diesel<br>Selling_Price=%{y}<extra></extra>",
         "legendgroup": "Manual",
         "marker": {
          "color": "#636efa"
         },
         "name": "Manual",
         "offsetgroup": "Manual",
         "orientation": "v",
         "showlegend": false,
         "textposition": "auto",
         "type": "bar",
         "x": [
          "Manual",
          "Manual",
          "Manual",
          "Manual",
          "Manual",
          "Manual",
          "Manual",
          "Manual",
          "Manual",
          "Manual",
          "Manual",
          "Manual",
          "Manual",
          "Manual",
          "Manual",
          "Manual",
          "Manual",
          "Manual",
          "Manual",
          "Manual",
          "Manual",
          "Manual",
          "Manual",
          "Manual",
          "Manual",
          "Manual",
          "Manual",
          "Manual",
          "Manual",
          "Manual",
          "Manual",
          "Manual",
          "Manual",
          "Manual",
          "Manual",
          "Manual",
          "Manual",
          "Manual",
          "Manual",
          "Manual",
          "Manual",
          "Manual",
          "Manual",
          "Manual",
          "Manual",
          "Manual",
          "Manual",
          "Manual"
         ],
         "xaxis": "x2",
         "y": [
          4.75,
          4.6,
          9.25,
          6.5,
          8.75,
          7.45,
          6.85,
          7.75,
          7.25,
          7.75,
          7.45,
          3.1,
          4.95,
          6,
          5.5,
          5.5,
          4.75,
          9.25,
          3.95,
          4.5,
          4.9,
          14.73,
          4.75,
          12.5,
          3.49,
          35,
          11.25,
          9.65,
          3.25,
          4.85,
          11.75,
          6,
          8.25,
          4.95,
          3.1,
          6.15,
          3.9,
          11.25,
          5.35,
          5.95,
          5.2,
          12.9,
          7.2,
          8.35,
          8.25,
          8.55,
          9.5,
          11.5
         ],
         "yaxis": "y2"
        },
        {
         "alignmentgroup": "True",
         "hovertemplate": "Transmission=%{x}<br>Fuel_Type=CNG<br>Selling_Price=%{y}<extra></extra>",
         "legendgroup": "Manual",
         "marker": {
          "color": "#636efa"
         },
         "name": "Manual",
         "offsetgroup": "Manual",
         "orientation": "v",
         "showlegend": false,
         "textposition": "auto",
         "type": "bar",
         "x": [
          "Manual",
          "Manual"
         ],
         "xaxis": "x3",
         "y": [
          3.25,
          2.95
         ],
         "yaxis": "y3"
        },
        {
         "alignmentgroup": "True",
         "hovertemplate": "Transmission=%{x}<br>Fuel_Type=Petrol<br>Selling_Price=%{y}<extra></extra>",
         "legendgroup": "Automatic",
         "marker": {
          "color": "#EF553B"
         },
         "name": "Automatic",
         "offsetgroup": "Automatic",
         "orientation": "v",
         "showlegend": true,
         "textposition": "auto",
         "type": "bar",
         "x": [
          "Automatic",
          "Automatic",
          "Automatic",
          "Automatic",
          "Automatic",
          "Automatic",
          "Automatic",
          "Automatic",
          "Automatic",
          "Automatic",
          "Automatic",
          "Automatic",
          "Automatic",
          "Automatic",
          "Automatic",
          "Automatic",
          "Automatic",
          "Automatic",
          "Automatic",
          "Automatic",
          "Automatic",
          "Automatic",
          "Automatic",
          "Automatic",
          "Automatic",
          "Automatic",
          "Automatic",
          "Automatic"
         ],
         "xaxis": "x",
         "y": [
          7.5,
          4.4,
          5.85,
          7.5,
          7.75,
          3.6,
          19.75,
          1.5,
          5.25,
          2.5,
          4,
          0.48,
          0.45,
          0.45,
          0.4,
          0.35,
          0.35,
          0.25,
          0.25,
          0.17,
          5.15,
          4.5,
          5.11,
          11.45,
          5.4,
          10.9,
          7.4,
          5.75
         ],
         "yaxis": "y"
        },
        {
         "alignmentgroup": "True",
         "hovertemplate": "Transmission=%{x}<br>Fuel_Type=Diesel<br>Selling_Price=%{y}<extra></extra>",
         "legendgroup": "Automatic",
         "marker": {
          "color": "#EF553B"
         },
         "name": "Automatic",
         "offsetgroup": "Automatic",
         "orientation": "v",
         "showlegend": false,
         "textposition": "auto",
         "type": "bar",
         "x": [
          "Automatic",
          "Automatic",
          "Automatic",
          "Automatic",
          "Automatic",
          "Automatic",
          "Automatic",
          "Automatic",
          "Automatic",
          "Automatic",
          "Automatic",
          "Automatic"
         ],
         "xaxis": "x2",
         "y": [
          14.9,
          23,
          18,
          16,
          19.99,
          18.75,
          23.5,
          33,
          14.5,
          23,
          23,
          20.75
         ],
         "yaxis": "y2"
        }
       ],
       "layout": {
        "annotations": [
         {
          "font": {},
          "showarrow": false,
          "text": "Fuel_Type=Petrol",
          "x": 0.15999999999999998,
          "xanchor": "center",
          "xref": "paper",
          "y": 1,
          "yanchor": "bottom",
          "yref": "paper"
         },
         {
          "font": {},
          "showarrow": false,
          "text": "Fuel_Type=Diesel",
          "x": 0.49999999999999994,
          "xanchor": "center",
          "xref": "paper",
          "y": 1,
          "yanchor": "bottom",
          "yref": "paper"
         },
         {
          "font": {},
          "showarrow": false,
          "text": "Fuel_Type=CNG",
          "x": 0.8399999999999999,
          "xanchor": "center",
          "xref": "paper",
          "y": 1,
          "yanchor": "bottom",
          "yref": "paper"
         }
        ],
        "barmode": "relative",
        "legend": {
         "title": {
          "text": "Transmission"
         },
         "tracegroupgap": 0
        },
        "margin": {
         "t": 60
        },
        "template": {
         "data": {
          "bar": [
           {
            "error_x": {
             "color": "#2a3f5f"
            },
            "error_y": {
             "color": "#2a3f5f"
            },
            "marker": {
             "line": {
              "color": "#E5ECF6",
              "width": 0.5
             }
            },
            "type": "bar"
           }
          ],
          "barpolar": [
           {
            "marker": {
             "line": {
              "color": "#E5ECF6",
              "width": 0.5
             }
            },
            "type": "barpolar"
           }
          ],
          "carpet": [
           {
            "aaxis": {
             "endlinecolor": "#2a3f5f",
             "gridcolor": "white",
             "linecolor": "white",
             "minorgridcolor": "white",
             "startlinecolor": "#2a3f5f"
            },
            "baxis": {
             "endlinecolor": "#2a3f5f",
             "gridcolor": "white",
             "linecolor": "white",
             "minorgridcolor": "white",
             "startlinecolor": "#2a3f5f"
            },
            "type": "carpet"
           }
          ],
          "choropleth": [
           {
            "colorbar": {
             "outlinewidth": 0,
             "ticks": ""
            },
            "type": "choropleth"
           }
          ],
          "contour": [
           {
            "colorbar": {
             "outlinewidth": 0,
             "ticks": ""
            },
            "colorscale": [
             [
              0,
              "#0d0887"
             ],
             [
              0.1111111111111111,
              "#46039f"
             ],
             [
              0.2222222222222222,
              "#7201a8"
             ],
             [
              0.3333333333333333,
              "#9c179e"
             ],
             [
              0.4444444444444444,
              "#bd3786"
             ],
             [
              0.5555555555555556,
              "#d8576b"
             ],
             [
              0.6666666666666666,
              "#ed7953"
             ],
             [
              0.7777777777777778,
              "#fb9f3a"
             ],
             [
              0.8888888888888888,
              "#fdca26"
             ],
             [
              1,
              "#f0f921"
             ]
            ],
            "type": "contour"
           }
          ],
          "contourcarpet": [
           {
            "colorbar": {
             "outlinewidth": 0,
             "ticks": ""
            },
            "type": "contourcarpet"
           }
          ],
          "heatmap": [
           {
            "colorbar": {
             "outlinewidth": 0,
             "ticks": ""
            },
            "colorscale": [
             [
              0,
              "#0d0887"
             ],
             [
              0.1111111111111111,
              "#46039f"
             ],
             [
              0.2222222222222222,
              "#7201a8"
             ],
             [
              0.3333333333333333,
              "#9c179e"
             ],
             [
              0.4444444444444444,
              "#bd3786"
             ],
             [
              0.5555555555555556,
              "#d8576b"
             ],
             [
              0.6666666666666666,
              "#ed7953"
             ],
             [
              0.7777777777777778,
              "#fb9f3a"
             ],
             [
              0.8888888888888888,
              "#fdca26"
             ],
             [
              1,
              "#f0f921"
             ]
            ],
            "type": "heatmap"
           }
          ],
          "heatmapgl": [
           {
            "colorbar": {
             "outlinewidth": 0,
             "ticks": ""
            },
            "colorscale": [
             [
              0,
              "#0d0887"
             ],
             [
              0.1111111111111111,
              "#46039f"
             ],
             [
              0.2222222222222222,
              "#7201a8"
             ],
             [
              0.3333333333333333,
              "#9c179e"
             ],
             [
              0.4444444444444444,
              "#bd3786"
             ],
             [
              0.5555555555555556,
              "#d8576b"
             ],
             [
              0.6666666666666666,
              "#ed7953"
             ],
             [
              0.7777777777777778,
              "#fb9f3a"
             ],
             [
              0.8888888888888888,
              "#fdca26"
             ],
             [
              1,
              "#f0f921"
             ]
            ],
            "type": "heatmapgl"
           }
          ],
          "histogram": [
           {
            "marker": {
             "colorbar": {
              "outlinewidth": 0,
              "ticks": ""
             }
            },
            "type": "histogram"
           }
          ],
          "histogram2d": [
           {
            "colorbar": {
             "outlinewidth": 0,
             "ticks": ""
            },
            "colorscale": [
             [
              0,
              "#0d0887"
             ],
             [
              0.1111111111111111,
              "#46039f"
             ],
             [
              0.2222222222222222,
              "#7201a8"
             ],
             [
              0.3333333333333333,
              "#9c179e"
             ],
             [
              0.4444444444444444,
              "#bd3786"
             ],
             [
              0.5555555555555556,
              "#d8576b"
             ],
             [
              0.6666666666666666,
              "#ed7953"
             ],
             [
              0.7777777777777778,
              "#fb9f3a"
             ],
             [
              0.8888888888888888,
              "#fdca26"
             ],
             [
              1,
              "#f0f921"
             ]
            ],
            "type": "histogram2d"
           }
          ],
          "histogram2dcontour": [
           {
            "colorbar": {
             "outlinewidth": 0,
             "ticks": ""
            },
            "colorscale": [
             [
              0,
              "#0d0887"
             ],
             [
              0.1111111111111111,
              "#46039f"
             ],
             [
              0.2222222222222222,
              "#7201a8"
             ],
             [
              0.3333333333333333,
              "#9c179e"
             ],
             [
              0.4444444444444444,
              "#bd3786"
             ],
             [
              0.5555555555555556,
              "#d8576b"
             ],
             [
              0.6666666666666666,
              "#ed7953"
             ],
             [
              0.7777777777777778,
              "#fb9f3a"
             ],
             [
              0.8888888888888888,
              "#fdca26"
             ],
             [
              1,
              "#f0f921"
             ]
            ],
            "type": "histogram2dcontour"
           }
          ],
          "mesh3d": [
           {
            "colorbar": {
             "outlinewidth": 0,
             "ticks": ""
            },
            "type": "mesh3d"
           }
          ],
          "parcoords": [
           {
            "line": {
             "colorbar": {
              "outlinewidth": 0,
              "ticks": ""
             }
            },
            "type": "parcoords"
           }
          ],
          "pie": [
           {
            "automargin": true,
            "type": "pie"
           }
          ],
          "scatter": [
           {
            "marker": {
             "colorbar": {
              "outlinewidth": 0,
              "ticks": ""
             }
            },
            "type": "scatter"
           }
          ],
          "scatter3d": [
           {
            "line": {
             "colorbar": {
              "outlinewidth": 0,
              "ticks": ""
             }
            },
            "marker": {
             "colorbar": {
              "outlinewidth": 0,
              "ticks": ""
             }
            },
            "type": "scatter3d"
           }
          ],
          "scattercarpet": [
           {
            "marker": {
             "colorbar": {
              "outlinewidth": 0,
              "ticks": ""
             }
            },
            "type": "scattercarpet"
           }
          ],
          "scattergeo": [
           {
            "marker": {
             "colorbar": {
              "outlinewidth": 0,
              "ticks": ""
             }
            },
            "type": "scattergeo"
           }
          ],
          "scattergl": [
           {
            "marker": {
             "colorbar": {
              "outlinewidth": 0,
              "ticks": ""
             }
            },
            "type": "scattergl"
           }
          ],
          "scattermapbox": [
           {
            "marker": {
             "colorbar": {
              "outlinewidth": 0,
              "ticks": ""
             }
            },
            "type": "scattermapbox"
           }
          ],
          "scatterpolar": [
           {
            "marker": {
             "colorbar": {
              "outlinewidth": 0,
              "ticks": ""
             }
            },
            "type": "scatterpolar"
           }
          ],
          "scatterpolargl": [
           {
            "marker": {
             "colorbar": {
              "outlinewidth": 0,
              "ticks": ""
             }
            },
            "type": "scatterpolargl"
           }
          ],
          "scatterternary": [
           {
            "marker": {
             "colorbar": {
              "outlinewidth": 0,
              "ticks": ""
             }
            },
            "type": "scatterternary"
           }
          ],
          "surface": [
           {
            "colorbar": {
             "outlinewidth": 0,
             "ticks": ""
            },
            "colorscale": [
             [
              0,
              "#0d0887"
             ],
             [
              0.1111111111111111,
              "#46039f"
             ],
             [
              0.2222222222222222,
              "#7201a8"
             ],
             [
              0.3333333333333333,
              "#9c179e"
             ],
             [
              0.4444444444444444,
              "#bd3786"
             ],
             [
              0.5555555555555556,
              "#d8576b"
             ],
             [
              0.6666666666666666,
              "#ed7953"
             ],
             [
              0.7777777777777778,
              "#fb9f3a"
             ],
             [
              0.8888888888888888,
              "#fdca26"
             ],
             [
              1,
              "#f0f921"
             ]
            ],
            "type": "surface"
           }
          ],
          "table": [
           {
            "cells": {
             "fill": {
              "color": "#EBF0F8"
             },
             "line": {
              "color": "white"
             }
            },
            "header": {
             "fill": {
              "color": "#C8D4E3"
             },
             "line": {
              "color": "white"
             }
            },
            "type": "table"
           }
          ]
         },
         "layout": {
          "annotationdefaults": {
           "arrowcolor": "#2a3f5f",
           "arrowhead": 0,
           "arrowwidth": 1
          },
          "autotypenumbers": "strict",
          "coloraxis": {
           "colorbar": {
            "outlinewidth": 0,
            "ticks": ""
           }
          },
          "colorscale": {
           "diverging": [
            [
             0,
             "#8e0152"
            ],
            [
             0.1,
             "#c51b7d"
            ],
            [
             0.2,
             "#de77ae"
            ],
            [
             0.3,
             "#f1b6da"
            ],
            [
             0.4,
             "#fde0ef"
            ],
            [
             0.5,
             "#f7f7f7"
            ],
            [
             0.6,
             "#e6f5d0"
            ],
            [
             0.7,
             "#b8e186"
            ],
            [
             0.8,
             "#7fbc41"
            ],
            [
             0.9,
             "#4d9221"
            ],
            [
             1,
             "#276419"
            ]
           ],
           "sequential": [
            [
             0,
             "#0d0887"
            ],
            [
             0.1111111111111111,
             "#46039f"
            ],
            [
             0.2222222222222222,
             "#7201a8"
            ],
            [
             0.3333333333333333,
             "#9c179e"
            ],
            [
             0.4444444444444444,
             "#bd3786"
            ],
            [
             0.5555555555555556,
             "#d8576b"
            ],
            [
             0.6666666666666666,
             "#ed7953"
            ],
            [
             0.7777777777777778,
             "#fb9f3a"
            ],
            [
             0.8888888888888888,
             "#fdca26"
            ],
            [
             1,
             "#f0f921"
            ]
           ],
           "sequentialminus": [
            [
             0,
             "#0d0887"
            ],
            [
             0.1111111111111111,
             "#46039f"
            ],
            [
             0.2222222222222222,
             "#7201a8"
            ],
            [
             0.3333333333333333,
             "#9c179e"
            ],
            [
             0.4444444444444444,
             "#bd3786"
            ],
            [
             0.5555555555555556,
             "#d8576b"
            ],
            [
             0.6666666666666666,
             "#ed7953"
            ],
            [
             0.7777777777777778,
             "#fb9f3a"
            ],
            [
             0.8888888888888888,
             "#fdca26"
            ],
            [
             1,
             "#f0f921"
            ]
           ]
          },
          "colorway": [
           "#636efa",
           "#EF553B",
           "#00cc96",
           "#ab63fa",
           "#FFA15A",
           "#19d3f3",
           "#FF6692",
           "#B6E880",
           "#FF97FF",
           "#FECB52"
          ],
          "font": {
           "color": "#2a3f5f"
          },
          "geo": {
           "bgcolor": "white",
           "lakecolor": "white",
           "landcolor": "#E5ECF6",
           "showlakes": true,
           "showland": true,
           "subunitcolor": "white"
          },
          "hoverlabel": {
           "align": "left"
          },
          "hovermode": "closest",
          "mapbox": {
           "style": "light"
          },
          "paper_bgcolor": "white",
          "plot_bgcolor": "#E5ECF6",
          "polar": {
           "angularaxis": {
            "gridcolor": "white",
            "linecolor": "white",
            "ticks": ""
           },
           "bgcolor": "#E5ECF6",
           "radialaxis": {
            "gridcolor": "white",
            "linecolor": "white",
            "ticks": ""
           }
          },
          "scene": {
           "xaxis": {
            "backgroundcolor": "#E5ECF6",
            "gridcolor": "white",
            "gridwidth": 2,
            "linecolor": "white",
            "showbackground": true,
            "ticks": "",
            "zerolinecolor": "white"
           },
           "yaxis": {
            "backgroundcolor": "#E5ECF6",
            "gridcolor": "white",
            "gridwidth": 2,
            "linecolor": "white",
            "showbackground": true,
            "ticks": "",
            "zerolinecolor": "white"
           },
           "zaxis": {
            "backgroundcolor": "#E5ECF6",
            "gridcolor": "white",
            "gridwidth": 2,
            "linecolor": "white",
            "showbackground": true,
            "ticks": "",
            "zerolinecolor": "white"
           }
          },
          "shapedefaults": {
           "line": {
            "color": "#2a3f5f"
           }
          },
          "ternary": {
           "aaxis": {
            "gridcolor": "white",
            "linecolor": "white",
            "ticks": ""
           },
           "baxis": {
            "gridcolor": "white",
            "linecolor": "white",
            "ticks": ""
           },
           "bgcolor": "#E5ECF6",
           "caxis": {
            "gridcolor": "white",
            "linecolor": "white",
            "ticks": ""
           }
          },
          "title": {
           "x": 0.05
          },
          "xaxis": {
           "automargin": true,
           "gridcolor": "white",
           "linecolor": "white",
           "ticks": "",
           "title": {
            "standoff": 15
           },
           "zerolinecolor": "white",
           "zerolinewidth": 2
          },
          "yaxis": {
           "automargin": true,
           "gridcolor": "white",
           "linecolor": "white",
           "ticks": "",
           "title": {
            "standoff": 15
           },
           "zerolinecolor": "white",
           "zerolinewidth": 2
          }
         }
        },
        "xaxis": {
         "anchor": "y",
         "categoryarray": [
          "Manual",
          "Automatic"
         ],
         "categoryorder": "array",
         "domain": [
          0,
          0.31999999999999995
         ],
         "title": {
          "text": "Transmission"
         }
        },
        "xaxis2": {
         "anchor": "y2",
         "categoryarray": [
          "Manual",
          "Automatic"
         ],
         "categoryorder": "array",
         "domain": [
          0.33999999999999997,
          0.6599999999999999
         ],
         "matches": "x",
         "title": {
          "text": "Transmission"
         }
        },
        "xaxis3": {
         "anchor": "y3",
         "categoryarray": [
          "Manual",
          "Automatic"
         ],
         "categoryorder": "array",
         "domain": [
          0.6799999999999999,
          0.9999999999999999
         ],
         "matches": "x",
         "title": {
          "text": "Transmission"
         }
        },
        "yaxis": {
         "anchor": "x",
         "domain": [
          0,
          1
         ],
         "title": {
          "text": "Selling_Price"
         }
        },
        "yaxis2": {
         "anchor": "x2",
         "domain": [
          0,
          1
         ],
         "matches": "y",
         "showticklabels": false
        },
        "yaxis3": {
         "anchor": "x3",
         "domain": [
          0,
          1
         ],
         "matches": "y",
         "showticklabels": false
        }
       }
      },
      "text/html": [
       "<div>                            <div id=\"da7e80c2-eaba-4a2d-b288-95d5477db776\" class=\"plotly-graph-div\" style=\"height:525px; width:100%;\"></div>            <script type=\"text/javascript\">                require([\"plotly\"], function(Plotly) {                    window.PLOTLYENV=window.PLOTLYENV || {};                                    if (document.getElementById(\"da7e80c2-eaba-4a2d-b288-95d5477db776\")) {                    Plotly.newPlot(                        \"da7e80c2-eaba-4a2d-b288-95d5477db776\",                        [{\"alignmentgroup\": \"True\", \"hovertemplate\": \"Transmission=%{x}<br>Fuel_Type=Petrol<br>Selling_Price=%{y}<extra></extra>\", \"legendgroup\": \"Manual\", \"marker\": {\"color\": \"#636efa\"}, \"name\": \"Manual\", \"offsetgroup\": \"Manual\", \"orientation\": \"v\", \"showlegend\": true, \"textposition\": \"auto\", \"type\": \"bar\", \"x\": [\"Manual\", \"Manual\", \"Manual\", \"Manual\", \"Manual\", \"Manual\", \"Manual\", \"Manual\", \"Manual\", \"Manual\", \"Manual\", \"Manual\", \"Manual\", \"Manual\", \"Manual\", \"Manual\", \"Manual\", \"Manual\", \"Manual\", \"Manual\", \"Manual\", \"Manual\", \"Manual\", \"Manual\", \"Manual\", \"Manual\", \"Manual\", \"Manual\", \"Manual\", \"Manual\", \"Manual\", \"Manual\", \"Manual\", \"Manual\", \"Manual\", \"Manual\", \"Manual\", \"Manual\", \"Manual\", \"Manual\", \"Manual\", \"Manual\", \"Manual\", \"Manual\", \"Manual\", \"Manual\", \"Manual\", \"Manual\", \"Manual\", \"Manual\", \"Manual\", \"Manual\", \"Manual\", \"Manual\", \"Manual\", \"Manual\", \"Manual\", \"Manual\", \"Manual\", \"Manual\", \"Manual\", \"Manual\", \"Manual\", \"Manual\", \"Manual\", \"Manual\", \"Manual\", \"Manual\", \"Manual\", \"Manual\", \"Manual\", \"Manual\", \"Manual\", \"Manual\", \"Manual\", \"Manual\", \"Manual\", \"Manual\", \"Manual\", \"Manual\", \"Manual\", \"Manual\", \"Manual\", \"Manual\", \"Manual\", \"Manual\", \"Manual\", \"Manual\", \"Manual\", \"Manual\", \"Manual\", \"Manual\", \"Manual\", \"Manual\", \"Manual\", \"Manual\", \"Manual\", \"Manual\", \"Manual\", \"Manual\", \"Manual\", \"Manual\", \"Manual\", \"Manual\", \"Manual\", \"Manual\", \"Manual\", \"Manual\", \"Manual\", \"Manual\", \"Manual\", \"Manual\", \"Manual\", \"Manual\", \"Manual\", \"Manual\", \"Manual\", \"Manual\", \"Manual\", \"Manual\", \"Manual\", \"Manual\", \"Manual\", \"Manual\", \"Manual\", \"Manual\", \"Manual\", \"Manual\", \"Manual\", \"Manual\", \"Manual\", \"Manual\", \"Manual\", \"Manual\", \"Manual\", \"Manual\", \"Manual\", \"Manual\", \"Manual\", \"Manual\", \"Manual\", \"Manual\", \"Manual\", \"Manual\", \"Manual\", \"Manual\", \"Manual\", \"Manual\", \"Manual\", \"Manual\", \"Manual\", \"Manual\", \"Manual\", \"Manual\", \"Manual\", \"Manual\", \"Manual\", \"Manual\", \"Manual\", \"Manual\", \"Manual\", \"Manual\", \"Manual\", \"Manual\", \"Manual\", \"Manual\", \"Manual\", \"Manual\", \"Manual\", \"Manual\", \"Manual\", \"Manual\", \"Manual\", \"Manual\", \"Manual\", \"Manual\", \"Manual\", \"Manual\", \"Manual\", \"Manual\", \"Manual\", \"Manual\", \"Manual\", \"Manual\", \"Manual\", \"Manual\", \"Manual\", \"Manual\", \"Manual\", \"Manual\", \"Manual\", \"Manual\", \"Manual\", \"Manual\", \"Manual\", \"Manual\", \"Manual\", \"Manual\", \"Manual\", \"Manual\", \"Manual\", \"Manual\", \"Manual\", \"Manual\", \"Manual\", \"Manual\", \"Manual\", \"Manual\", \"Manual\", \"Manual\", \"Manual\"], \"xaxis\": \"x\", \"y\": [3.35, 7.25, 2.85, 6.75, 2.85, 6.1, 2.25, 2.65, 2.85, 4.9, 2.5, 2.9, 3.0, 4.15, 6.0, 1.95, 2.35, 4.65, 0.35, 3.0, 2.25, 2.55, 1.95, 1.25, 2.65, 1.05, 5.8, 2.75, 4.5, 4.75, 4.1, 6.95, 4.5, 4.35, 14.25, 7.45, 2.65, 3.95, 5.5, 5.9, 3.45, 4.75, 3.8, 3.51, 5.85, 17.0, 7.05, 1.75, 1.7, 1.65, 1.45, 1.35, 1.35, 1.35, 1.25, 1.2, 1.2, 1.2, 1.15, 1.15, 1.15, 1.15, 1.11, 1.1, 1.1, 1.1, 1.05, 1.05, 1.05, 1.05, 1.0, 0.95, 0.9, 0.9, 0.75, 0.8, 0.78, 0.75, 0.75, 0.75, 0.72, 0.65, 0.65, 0.65, 0.65, 0.6, 0.6, 0.6, 0.6, 0.6, 0.6, 0.6, 0.6, 0.55, 0.55, 0.52, 0.51, 0.5, 0.5, 0.5, 0.5, 0.5, 0.48, 0.48, 0.48, 0.45, 0.45, 0.45, 0.45, 0.45, 0.45, 0.42, 0.42, 0.4, 0.4, 0.4, 0.4, 0.38, 0.38, 0.35, 0.31, 0.3, 0.3, 0.3, 0.27, 0.25, 0.25, 0.25, 0.2, 0.2, 0.2, 0.2, 0.2, 0.2, 0.18, 0.16, 0.15, 0.12, 0.1, 4.4, 2.95, 2.75, 5.25, 5.75, 7.9, 3.1, 11.25, 2.9, 5.25, 4.5, 2.9, 3.15, 6.45, 4.5, 3.5, 2.7, 5.25, 2.55, 9.25, 5.5, 9.1, 3.1, 4.8, 2.0, 4.75, 4.4, 6.25, 3.75, 5.95, 4.0, 5.25, 5.0, 5.25, 3.0, 10.25, 8.5, 8.4, 3.9, 9.15, 5.5, 4.0, 6.6, 4.0, 6.5, 3.65, 4.8, 6.7, 4.1, 3.0, 7.5, 2.25, 5.3, 8.65, 9.7, 6.0, 6.25, 5.25, 2.1, 8.99, 3.5, 5.65, 8.4, 10.11, 4.5, 5.4, 6.4, 3.25, 3.75, 4.0, 3.35, 5.3], \"yaxis\": \"y\"}, {\"alignmentgroup\": \"True\", \"hovertemplate\": \"Transmission=%{x}<br>Fuel_Type=Diesel<br>Selling_Price=%{y}<extra></extra>\", \"legendgroup\": \"Manual\", \"marker\": {\"color\": \"#636efa\"}, \"name\": \"Manual\", \"offsetgroup\": \"Manual\", \"orientation\": \"v\", \"showlegend\": false, \"textposition\": \"auto\", \"type\": \"bar\", \"x\": [\"Manual\", \"Manual\", \"Manual\", \"Manual\", \"Manual\", \"Manual\", \"Manual\", \"Manual\", \"Manual\", \"Manual\", \"Manual\", \"Manual\", \"Manual\", \"Manual\", \"Manual\", \"Manual\", \"Manual\", \"Manual\", \"Manual\", \"Manual\", \"Manual\", \"Manual\", \"Manual\", \"Manual\", \"Manual\", \"Manual\", \"Manual\", \"Manual\", \"Manual\", \"Manual\", \"Manual\", \"Manual\", \"Manual\", \"Manual\", \"Manual\", \"Manual\", \"Manual\", \"Manual\", \"Manual\", \"Manual\", \"Manual\", \"Manual\", \"Manual\", \"Manual\", \"Manual\", \"Manual\", \"Manual\", \"Manual\"], \"xaxis\": \"x2\", \"y\": [4.75, 4.6, 9.25, 6.5, 8.75, 7.45, 6.85, 7.75, 7.25, 7.75, 7.45, 3.1, 4.95, 6.0, 5.5, 5.5, 4.75, 9.25, 3.95, 4.5, 4.9, 14.73, 4.75, 12.5, 3.49, 35.0, 11.25, 9.65, 3.25, 4.85, 11.75, 6.0, 8.25, 4.95, 3.1, 6.15, 3.9, 11.25, 5.35, 5.95, 5.2, 12.9, 7.2, 8.35, 8.25, 8.55, 9.5, 11.5], \"yaxis\": \"y2\"}, {\"alignmentgroup\": \"True\", \"hovertemplate\": \"Transmission=%{x}<br>Fuel_Type=CNG<br>Selling_Price=%{y}<extra></extra>\", \"legendgroup\": \"Manual\", \"marker\": {\"color\": \"#636efa\"}, \"name\": \"Manual\", \"offsetgroup\": \"Manual\", \"orientation\": \"v\", \"showlegend\": false, \"textposition\": \"auto\", \"type\": \"bar\", \"x\": [\"Manual\", \"Manual\"], \"xaxis\": \"x3\", \"y\": [3.25, 2.95], \"yaxis\": \"y3\"}, {\"alignmentgroup\": \"True\", \"hovertemplate\": \"Transmission=%{x}<br>Fuel_Type=Petrol<br>Selling_Price=%{y}<extra></extra>\", \"legendgroup\": \"Automatic\", \"marker\": {\"color\": \"#EF553B\"}, \"name\": \"Automatic\", \"offsetgroup\": \"Automatic\", \"orientation\": \"v\", \"showlegend\": true, \"textposition\": \"auto\", \"type\": \"bar\", \"x\": [\"Automatic\", \"Automatic\", \"Automatic\", \"Automatic\", \"Automatic\", \"Automatic\", \"Automatic\", \"Automatic\", \"Automatic\", \"Automatic\", \"Automatic\", \"Automatic\", \"Automatic\", \"Automatic\", \"Automatic\", \"Automatic\", \"Automatic\", \"Automatic\", \"Automatic\", \"Automatic\", \"Automatic\", \"Automatic\", \"Automatic\", \"Automatic\", \"Automatic\", \"Automatic\", \"Automatic\", \"Automatic\"], \"xaxis\": \"x\", \"y\": [7.5, 4.4, 5.85, 7.5, 7.75, 3.6, 19.75, 1.5, 5.25, 2.5, 4.0, 0.48, 0.45, 0.45, 0.4, 0.35, 0.35, 0.25, 0.25, 0.17, 5.15, 4.5, 5.11, 11.45, 5.4, 10.9, 7.4, 5.75], \"yaxis\": \"y\"}, {\"alignmentgroup\": \"True\", \"hovertemplate\": \"Transmission=%{x}<br>Fuel_Type=Diesel<br>Selling_Price=%{y}<extra></extra>\", \"legendgroup\": \"Automatic\", \"marker\": {\"color\": \"#EF553B\"}, \"name\": \"Automatic\", \"offsetgroup\": \"Automatic\", \"orientation\": \"v\", \"showlegend\": false, \"textposition\": \"auto\", \"type\": \"bar\", \"x\": [\"Automatic\", \"Automatic\", \"Automatic\", \"Automatic\", \"Automatic\", \"Automatic\", \"Automatic\", \"Automatic\", \"Automatic\", \"Automatic\", \"Automatic\", \"Automatic\"], \"xaxis\": \"x2\", \"y\": [14.9, 23.0, 18.0, 16.0, 19.99, 18.75, 23.5, 33.0, 14.5, 23.0, 23.0, 20.75], \"yaxis\": \"y2\"}],                        {\"annotations\": [{\"font\": {}, \"showarrow\": false, \"text\": \"Fuel_Type=Petrol\", \"x\": 0.15999999999999998, \"xanchor\": \"center\", \"xref\": \"paper\", \"y\": 1.0, \"yanchor\": \"bottom\", \"yref\": \"paper\"}, {\"font\": {}, \"showarrow\": false, \"text\": \"Fuel_Type=Diesel\", \"x\": 0.49999999999999994, \"xanchor\": \"center\", \"xref\": \"paper\", \"y\": 1.0, \"yanchor\": \"bottom\", \"yref\": \"paper\"}, {\"font\": {}, \"showarrow\": false, \"text\": \"Fuel_Type=CNG\", \"x\": 0.8399999999999999, \"xanchor\": \"center\", \"xref\": \"paper\", \"y\": 1.0, \"yanchor\": \"bottom\", \"yref\": \"paper\"}], \"barmode\": \"relative\", \"legend\": {\"title\": {\"text\": \"Transmission\"}, \"tracegroupgap\": 0}, \"margin\": {\"t\": 60}, \"template\": {\"data\": {\"bar\": [{\"error_x\": {\"color\": \"#2a3f5f\"}, \"error_y\": {\"color\": \"#2a3f5f\"}, \"marker\": {\"line\": {\"color\": \"#E5ECF6\", \"width\": 0.5}}, \"type\": \"bar\"}], \"barpolar\": [{\"marker\": {\"line\": {\"color\": \"#E5ECF6\", \"width\": 0.5}}, \"type\": \"barpolar\"}], \"carpet\": [{\"aaxis\": {\"endlinecolor\": \"#2a3f5f\", \"gridcolor\": \"white\", \"linecolor\": \"white\", \"minorgridcolor\": \"white\", \"startlinecolor\": \"#2a3f5f\"}, \"baxis\": {\"endlinecolor\": \"#2a3f5f\", \"gridcolor\": \"white\", \"linecolor\": \"white\", \"minorgridcolor\": \"white\", \"startlinecolor\": \"#2a3f5f\"}, \"type\": \"carpet\"}], \"choropleth\": [{\"colorbar\": {\"outlinewidth\": 0, \"ticks\": \"\"}, \"type\": \"choropleth\"}], \"contour\": [{\"colorbar\": {\"outlinewidth\": 0, \"ticks\": \"\"}, \"colorscale\": [[0.0, \"#0d0887\"], [0.1111111111111111, \"#46039f\"], [0.2222222222222222, \"#7201a8\"], [0.3333333333333333, \"#9c179e\"], [0.4444444444444444, \"#bd3786\"], [0.5555555555555556, \"#d8576b\"], [0.6666666666666666, \"#ed7953\"], [0.7777777777777778, \"#fb9f3a\"], [0.8888888888888888, \"#fdca26\"], [1.0, \"#f0f921\"]], \"type\": \"contour\"}], \"contourcarpet\": [{\"colorbar\": {\"outlinewidth\": 0, \"ticks\": \"\"}, \"type\": \"contourcarpet\"}], \"heatmap\": [{\"colorbar\": {\"outlinewidth\": 0, \"ticks\": \"\"}, \"colorscale\": [[0.0, \"#0d0887\"], [0.1111111111111111, \"#46039f\"], [0.2222222222222222, \"#7201a8\"], [0.3333333333333333, \"#9c179e\"], [0.4444444444444444, \"#bd3786\"], [0.5555555555555556, \"#d8576b\"], [0.6666666666666666, \"#ed7953\"], [0.7777777777777778, \"#fb9f3a\"], [0.8888888888888888, \"#fdca26\"], [1.0, \"#f0f921\"]], \"type\": \"heatmap\"}], \"heatmapgl\": [{\"colorbar\": {\"outlinewidth\": 0, \"ticks\": \"\"}, \"colorscale\": [[0.0, \"#0d0887\"], [0.1111111111111111, \"#46039f\"], [0.2222222222222222, \"#7201a8\"], [0.3333333333333333, \"#9c179e\"], [0.4444444444444444, \"#bd3786\"], [0.5555555555555556, \"#d8576b\"], [0.6666666666666666, \"#ed7953\"], [0.7777777777777778, \"#fb9f3a\"], [0.8888888888888888, \"#fdca26\"], [1.0, \"#f0f921\"]], \"type\": \"heatmapgl\"}], \"histogram\": [{\"marker\": {\"colorbar\": {\"outlinewidth\": 0, \"ticks\": \"\"}}, \"type\": \"histogram\"}], \"histogram2d\": [{\"colorbar\": {\"outlinewidth\": 0, \"ticks\": \"\"}, \"colorscale\": [[0.0, \"#0d0887\"], [0.1111111111111111, \"#46039f\"], [0.2222222222222222, \"#7201a8\"], [0.3333333333333333, \"#9c179e\"], [0.4444444444444444, \"#bd3786\"], [0.5555555555555556, \"#d8576b\"], [0.6666666666666666, \"#ed7953\"], [0.7777777777777778, \"#fb9f3a\"], [0.8888888888888888, \"#fdca26\"], [1.0, \"#f0f921\"]], \"type\": \"histogram2d\"}], \"histogram2dcontour\": [{\"colorbar\": {\"outlinewidth\": 0, \"ticks\": \"\"}, \"colorscale\": [[0.0, \"#0d0887\"], [0.1111111111111111, \"#46039f\"], [0.2222222222222222, \"#7201a8\"], [0.3333333333333333, \"#9c179e\"], [0.4444444444444444, \"#bd3786\"], [0.5555555555555556, \"#d8576b\"], [0.6666666666666666, \"#ed7953\"], [0.7777777777777778, \"#fb9f3a\"], [0.8888888888888888, \"#fdca26\"], [1.0, \"#f0f921\"]], \"type\": \"histogram2dcontour\"}], \"mesh3d\": [{\"colorbar\": {\"outlinewidth\": 0, \"ticks\": \"\"}, \"type\": \"mesh3d\"}], \"parcoords\": [{\"line\": {\"colorbar\": {\"outlinewidth\": 0, \"ticks\": \"\"}}, \"type\": \"parcoords\"}], \"pie\": [{\"automargin\": true, \"type\": \"pie\"}], \"scatter\": [{\"marker\": {\"colorbar\": {\"outlinewidth\": 0, \"ticks\": \"\"}}, \"type\": \"scatter\"}], \"scatter3d\": [{\"line\": {\"colorbar\": {\"outlinewidth\": 0, \"ticks\": \"\"}}, \"marker\": {\"colorbar\": {\"outlinewidth\": 0, \"ticks\": \"\"}}, \"type\": \"scatter3d\"}], \"scattercarpet\": [{\"marker\": {\"colorbar\": {\"outlinewidth\": 0, \"ticks\": \"\"}}, \"type\": \"scattercarpet\"}], \"scattergeo\": [{\"marker\": {\"colorbar\": {\"outlinewidth\": 0, \"ticks\": \"\"}}, \"type\": \"scattergeo\"}], \"scattergl\": [{\"marker\": {\"colorbar\": {\"outlinewidth\": 0, \"ticks\": \"\"}}, \"type\": \"scattergl\"}], \"scattermapbox\": [{\"marker\": {\"colorbar\": {\"outlinewidth\": 0, \"ticks\": \"\"}}, \"type\": \"scattermapbox\"}], \"scatterpolar\": [{\"marker\": {\"colorbar\": {\"outlinewidth\": 0, \"ticks\": \"\"}}, \"type\": \"scatterpolar\"}], \"scatterpolargl\": [{\"marker\": {\"colorbar\": {\"outlinewidth\": 0, \"ticks\": \"\"}}, \"type\": \"scatterpolargl\"}], \"scatterternary\": [{\"marker\": {\"colorbar\": {\"outlinewidth\": 0, \"ticks\": \"\"}}, \"type\": \"scatterternary\"}], \"surface\": [{\"colorbar\": {\"outlinewidth\": 0, \"ticks\": \"\"}, \"colorscale\": [[0.0, \"#0d0887\"], [0.1111111111111111, \"#46039f\"], [0.2222222222222222, \"#7201a8\"], [0.3333333333333333, \"#9c179e\"], [0.4444444444444444, \"#bd3786\"], [0.5555555555555556, \"#d8576b\"], [0.6666666666666666, \"#ed7953\"], [0.7777777777777778, \"#fb9f3a\"], [0.8888888888888888, \"#fdca26\"], [1.0, \"#f0f921\"]], \"type\": \"surface\"}], \"table\": [{\"cells\": {\"fill\": {\"color\": \"#EBF0F8\"}, \"line\": {\"color\": \"white\"}}, \"header\": {\"fill\": {\"color\": \"#C8D4E3\"}, \"line\": {\"color\": \"white\"}}, \"type\": \"table\"}]}, \"layout\": {\"annotationdefaults\": {\"arrowcolor\": \"#2a3f5f\", \"arrowhead\": 0, \"arrowwidth\": 1}, \"autotypenumbers\": \"strict\", \"coloraxis\": {\"colorbar\": {\"outlinewidth\": 0, \"ticks\": \"\"}}, \"colorscale\": {\"diverging\": [[0, \"#8e0152\"], [0.1, \"#c51b7d\"], [0.2, \"#de77ae\"], [0.3, \"#f1b6da\"], [0.4, \"#fde0ef\"], [0.5, \"#f7f7f7\"], [0.6, \"#e6f5d0\"], [0.7, \"#b8e186\"], [0.8, \"#7fbc41\"], [0.9, \"#4d9221\"], [1, \"#276419\"]], \"sequential\": [[0.0, \"#0d0887\"], [0.1111111111111111, \"#46039f\"], [0.2222222222222222, \"#7201a8\"], [0.3333333333333333, \"#9c179e\"], [0.4444444444444444, \"#bd3786\"], [0.5555555555555556, \"#d8576b\"], [0.6666666666666666, \"#ed7953\"], [0.7777777777777778, \"#fb9f3a\"], [0.8888888888888888, \"#fdca26\"], [1.0, \"#f0f921\"]], \"sequentialminus\": [[0.0, \"#0d0887\"], [0.1111111111111111, \"#46039f\"], [0.2222222222222222, \"#7201a8\"], [0.3333333333333333, \"#9c179e\"], [0.4444444444444444, \"#bd3786\"], [0.5555555555555556, \"#d8576b\"], [0.6666666666666666, \"#ed7953\"], [0.7777777777777778, \"#fb9f3a\"], [0.8888888888888888, \"#fdca26\"], [1.0, \"#f0f921\"]]}, \"colorway\": [\"#636efa\", \"#EF553B\", \"#00cc96\", \"#ab63fa\", \"#FFA15A\", \"#19d3f3\", \"#FF6692\", \"#B6E880\", \"#FF97FF\", \"#FECB52\"], \"font\": {\"color\": \"#2a3f5f\"}, \"geo\": {\"bgcolor\": \"white\", \"lakecolor\": \"white\", \"landcolor\": \"#E5ECF6\", \"showlakes\": true, \"showland\": true, \"subunitcolor\": \"white\"}, \"hoverlabel\": {\"align\": \"left\"}, \"hovermode\": \"closest\", \"mapbox\": {\"style\": \"light\"}, \"paper_bgcolor\": \"white\", \"plot_bgcolor\": \"#E5ECF6\", \"polar\": {\"angularaxis\": {\"gridcolor\": \"white\", \"linecolor\": \"white\", \"ticks\": \"\"}, \"bgcolor\": \"#E5ECF6\", \"radialaxis\": {\"gridcolor\": \"white\", \"linecolor\": \"white\", \"ticks\": \"\"}}, \"scene\": {\"xaxis\": {\"backgroundcolor\": \"#E5ECF6\", \"gridcolor\": \"white\", \"gridwidth\": 2, \"linecolor\": \"white\", \"showbackground\": true, \"ticks\": \"\", \"zerolinecolor\": \"white\"}, \"yaxis\": {\"backgroundcolor\": \"#E5ECF6\", \"gridcolor\": \"white\", \"gridwidth\": 2, \"linecolor\": \"white\", \"showbackground\": true, \"ticks\": \"\", \"zerolinecolor\": \"white\"}, \"zaxis\": {\"backgroundcolor\": \"#E5ECF6\", \"gridcolor\": \"white\", \"gridwidth\": 2, \"linecolor\": \"white\", \"showbackground\": true, \"ticks\": \"\", \"zerolinecolor\": \"white\"}}, \"shapedefaults\": {\"line\": {\"color\": \"#2a3f5f\"}}, \"ternary\": {\"aaxis\": {\"gridcolor\": \"white\", \"linecolor\": \"white\", \"ticks\": \"\"}, \"baxis\": {\"gridcolor\": \"white\", \"linecolor\": \"white\", \"ticks\": \"\"}, \"bgcolor\": \"#E5ECF6\", \"caxis\": {\"gridcolor\": \"white\", \"linecolor\": \"white\", \"ticks\": \"\"}}, \"title\": {\"x\": 0.05}, \"xaxis\": {\"automargin\": true, \"gridcolor\": \"white\", \"linecolor\": \"white\", \"ticks\": \"\", \"title\": {\"standoff\": 15}, \"zerolinecolor\": \"white\", \"zerolinewidth\": 2}, \"yaxis\": {\"automargin\": true, \"gridcolor\": \"white\", \"linecolor\": \"white\", \"ticks\": \"\", \"title\": {\"standoff\": 15}, \"zerolinecolor\": \"white\", \"zerolinewidth\": 2}}}, \"xaxis\": {\"anchor\": \"y\", \"categoryarray\": [\"Manual\", \"Automatic\"], \"categoryorder\": \"array\", \"domain\": [0.0, 0.31999999999999995], \"title\": {\"text\": \"Transmission\"}}, \"xaxis2\": {\"anchor\": \"y2\", \"categoryarray\": [\"Manual\", \"Automatic\"], \"categoryorder\": \"array\", \"domain\": [0.33999999999999997, 0.6599999999999999], \"matches\": \"x\", \"title\": {\"text\": \"Transmission\"}}, \"xaxis3\": {\"anchor\": \"y3\", \"categoryarray\": [\"Manual\", \"Automatic\"], \"categoryorder\": \"array\", \"domain\": [0.6799999999999999, 0.9999999999999999], \"matches\": \"x\", \"title\": {\"text\": \"Transmission\"}}, \"yaxis\": {\"anchor\": \"x\", \"domain\": [0.0, 1.0], \"title\": {\"text\": \"Selling_Price\"}}, \"yaxis2\": {\"anchor\": \"x2\", \"domain\": [0.0, 1.0], \"matches\": \"y\", \"showticklabels\": false}, \"yaxis3\": {\"anchor\": \"x3\", \"domain\": [0.0, 1.0], \"matches\": \"y\", \"showticklabels\": false}},                        {\"responsive\": true}                    ).then(function(){\n",
       "                            \n",
       "var gd = document.getElementById('da7e80c2-eaba-4a2d-b288-95d5477db776');\n",
       "var x = new MutationObserver(function (mutations, observer) {{\n",
       "        var display = window.getComputedStyle(gd).display;\n",
       "        if (!display || display === 'none') {{\n",
       "            console.log([gd, 'removed!']);\n",
       "            Plotly.purge(gd);\n",
       "            observer.disconnect();\n",
       "        }}\n",
       "}});\n",
       "\n",
       "// Listen for the removal of the full notebook cells\n",
       "var notebookContainer = gd.closest('#notebook-container');\n",
       "if (notebookContainer) {{\n",
       "    x.observe(notebookContainer, {childList: true});\n",
       "}}\n",
       "\n",
       "// Listen for the clearing of the current output cell\n",
       "var outputEl = gd.closest('.output');\n",
       "if (outputEl) {{\n",
       "    x.observe(outputEl, {childList: true});\n",
       "}}\n",
       "\n",
       "                        })                };                });            </script>        </div>"
      ]
     },
     "metadata": {},
     "output_type": "display_data"
    },
    {
     "data": {
      "application/vnd.plotly.v1+json": {
       "config": {
        "plotlyServerURL": "https://plot.ly"
       },
       "data": [
        {
         "alignmentgroup": "True",
         "hovertemplate": "Transmission=%{x}<br>Fuel_Type=Petrol<br>Present_Price=%{y}<extra></extra>",
         "legendgroup": "Manual",
         "marker": {
          "color": "#636efa"
         },
         "name": "Manual",
         "offsetgroup": "Manual",
         "orientation": "v",
         "showlegend": true,
         "textposition": "auto",
         "type": "bar",
         "x": [
          "Manual",
          "Manual",
          "Manual",
          "Manual",
          "Manual",
          "Manual",
          "Manual",
          "Manual",
          "Manual",
          "Manual",
          "Manual",
          "Manual",
          "Manual",
          "Manual",
          "Manual",
          "Manual",
          "Manual",
          "Manual",
          "Manual",
          "Manual",
          "Manual",
          "Manual",
          "Manual",
          "Manual",
          "Manual",
          "Manual",
          "Manual",
          "Manual",
          "Manual",
          "Manual",
          "Manual",
          "Manual",
          "Manual",
          "Manual",
          "Manual",
          "Manual",
          "Manual",
          "Manual",
          "Manual",
          "Manual",
          "Manual",
          "Manual",
          "Manual",
          "Manual",
          "Manual",
          "Manual",
          "Manual",
          "Manual",
          "Manual",
          "Manual",
          "Manual",
          "Manual",
          "Manual",
          "Manual",
          "Manual",
          "Manual",
          "Manual",
          "Manual",
          "Manual",
          "Manual",
          "Manual",
          "Manual",
          "Manual",
          "Manual",
          "Manual",
          "Manual",
          "Manual",
          "Manual",
          "Manual",
          "Manual",
          "Manual",
          "Manual",
          "Manual",
          "Manual",
          "Manual",
          "Manual",
          "Manual",
          "Manual",
          "Manual",
          "Manual",
          "Manual",
          "Manual",
          "Manual",
          "Manual",
          "Manual",
          "Manual",
          "Manual",
          "Manual",
          "Manual",
          "Manual",
          "Manual",
          "Manual",
          "Manual",
          "Manual",
          "Manual",
          "Manual",
          "Manual",
          "Manual",
          "Manual",
          "Manual",
          "Manual",
          "Manual",
          "Manual",
          "Manual",
          "Manual",
          "Manual",
          "Manual",
          "Manual",
          "Manual",
          "Manual",
          "Manual",
          "Manual",
          "Manual",
          "Manual",
          "Manual",
          "Manual",
          "Manual",
          "Manual",
          "Manual",
          "Manual",
          "Manual",
          "Manual",
          "Manual",
          "Manual",
          "Manual",
          "Manual",
          "Manual",
          "Manual",
          "Manual",
          "Manual",
          "Manual",
          "Manual",
          "Manual",
          "Manual",
          "Manual",
          "Manual",
          "Manual",
          "Manual",
          "Manual",
          "Manual",
          "Manual",
          "Manual",
          "Manual",
          "Manual",
          "Manual",
          "Manual",
          "Manual",
          "Manual",
          "Manual",
          "Manual",
          "Manual",
          "Manual",
          "Manual",
          "Manual",
          "Manual",
          "Manual",
          "Manual",
          "Manual",
          "Manual",
          "Manual",
          "Manual",
          "Manual",
          "Manual",
          "Manual",
          "Manual",
          "Manual",
          "Manual",
          "Manual",
          "Manual",
          "Manual",
          "Manual",
          "Manual",
          "Manual",
          "Manual",
          "Manual",
          "Manual",
          "Manual",
          "Manual",
          "Manual",
          "Manual",
          "Manual",
          "Manual",
          "Manual",
          "Manual",
          "Manual",
          "Manual",
          "Manual",
          "Manual",
          "Manual",
          "Manual",
          "Manual",
          "Manual",
          "Manual",
          "Manual",
          "Manual",
          "Manual",
          "Manual",
          "Manual",
          "Manual",
          "Manual",
          "Manual",
          "Manual",
          "Manual",
          "Manual",
          "Manual",
          "Manual",
          "Manual",
          "Manual",
          "Manual",
          "Manual",
          "Manual"
         ],
         "xaxis": "x",
         "y": [
          5.59,
          9.85,
          4.15,
          8.12,
          3.6,
          7.71,
          7.21,
          7.98,
          3.95,
          5.71,
          3.46,
          4.41,
          4.99,
          5.87,
          6.49,
          3.95,
          4.89,
          7.2,
          2.28,
          3.76,
          7.98,
          3.98,
          7.15,
          2.69,
          4.89,
          4.15,
          7.71,
          10.21,
          7.27,
          18.54,
          6.8,
          18.61,
          7.7,
          13.74,
          20.91,
          18.61,
          5.71,
          6.8,
          14.68,
          13.74,
          6.05,
          6.76,
          18.61,
          13.7,
          18.61,
          18.64,
          18.61,
          1.9,
          1.82,
          1.78,
          1.6,
          1.47,
          2.37,
          3.45,
          1.5,
          1.5,
          1.47,
          1.78,
          1.5,
          2.4,
          1.4,
          1.47,
          1.47,
          1.47,
          1.9,
          1.47,
          1.9,
          1.26,
          1.5,
          1.17,
          1.47,
          1.75,
          1.75,
          0.95,
          0.8,
          0.87,
          0.84,
          0.87,
          0.82,
          0.95,
          0.95,
          0.81,
          0.74,
          1.2,
          0.787,
          0.87,
          0.95,
          1.2,
          0.8,
          0.84,
          0.84,
          0.99,
          0.81,
          0.787,
          0.84,
          0.94,
          0.94,
          0.826,
          0.55,
          0.99,
          0.99,
          0.88,
          0.52,
          0.84,
          0.54,
          0.95,
          0.826,
          0.99,
          0.95,
          0.54,
          0.55,
          0.81,
          0.73,
          0.54,
          0.83,
          0.55,
          0.64,
          0.72,
          0.787,
          1.05,
          1.05,
          0.51,
          0.48,
          0.58,
          0.47,
          0.75,
          0.51,
          0.57,
          0.57,
          0.75,
          0.57,
          0.75,
          0.65,
          0.787,
          0.32,
          0.51,
          0.57,
          0.58,
          0.75,
          5.7,
          4.6,
          4.43,
          5.7,
          7.13,
          8.1,
          4.6,
          13.6,
          6.79,
          5.7,
          9.4,
          4.43,
          4.43,
          9.4,
          9.4,
          4.43,
          4.6,
          5.7,
          4.43,
          9.4,
          5.7,
          9.4,
          4.43,
          9.4,
          4.43,
          7.13,
          7.13,
          7.6,
          6.79,
          9.4,
          4.6,
          7.6,
          9.9,
          9.9,
          5.35,
          13.6,
          13.6,
          13.6,
          7,
          13.6,
          5.97,
          5.8,
          7.7,
          7,
          8.7,
          7,
          5.8,
          10,
          10,
          10,
          10,
          7.5,
          6.8,
          13.6,
          13.6,
          8.4,
          13.6,
          5.9,
          7.6,
          11.8,
          5.9,
          7.9,
          13.6,
          13.6,
          6.4,
          6.1,
          8.4,
          9.9,
          6.8,
          5.9,
          11,
          5.9
         ],
         "yaxis": "y"
        },
        {
         "alignmentgroup": "True",
         "hovertemplate": "Transmission=%{x}<br>Fuel_Type=Diesel<br>Present_Price=%{y}<extra></extra>",
         "legendgroup": "Manual",
         "marker": {
          "color": "#636efa"
         },
         "name": "Manual",
         "offsetgroup": "Manual",
         "orientation": "v",
         "showlegend": false,
         "textposition": "auto",
         "type": "bar",
         "x": [
          "Manual",
          "Manual",
          "Manual",
          "Manual",
          "Manual",
          "Manual",
          "Manual",
          "Manual",
          "Manual",
          "Manual",
          "Manual",
          "Manual",
          "Manual",
          "Manual",
          "Manual",
          "Manual",
          "Manual",
          "Manual",
          "Manual",
          "Manual",
          "Manual",
          "Manual",
          "Manual",
          "Manual",
          "Manual",
          "Manual",
          "Manual",
          "Manual",
          "Manual",
          "Manual",
          "Manual",
          "Manual",
          "Manual",
          "Manual",
          "Manual",
          "Manual",
          "Manual",
          "Manual",
          "Manual",
          "Manual",
          "Manual",
          "Manual",
          "Manual",
          "Manual",
          "Manual",
          "Manual",
          "Manual",
          "Manual"
         ],
         "xaxis": "x2",
         "y": [
          9.54,
          6.87,
          9.83,
          8.61,
          8.89,
          8.92,
          10.38,
          10.79,
          10.79,
          10.79,
          10.38,
          5.98,
          7.49,
          9.95,
          8.06,
          8.06,
          6.95,
          20.45,
          6.76,
          12.48,
          8.93,
          14.89,
          7.85,
          13.46,
          13.46,
          92.6,
          16.09,
          20.45,
          6.79,
          5.7,
          14.79,
          7.6,
          9.4,
          9.4,
          6.79,
          9.4,
          5.7,
          13.6,
          9.4,
          9.4,
          9.4,
          13.6,
          9.9,
          9.4,
          14,
          13.09,
          11.6,
          12.5
         ],
         "yaxis": "y2"
        },
        {
         "alignmentgroup": "True",
         "hovertemplate": "Transmission=%{x}<br>Fuel_Type=CNG<br>Present_Price=%{y}<extra></extra>",
         "legendgroup": "Manual",
         "marker": {
          "color": "#636efa"
         },
         "name": "Manual",
         "offsetgroup": "Manual",
         "orientation": "v",
         "showlegend": false,
         "textposition": "auto",
         "type": "bar",
         "x": [
          "Manual",
          "Manual"
         ],
         "xaxis": "x3",
         "y": [
          5.09,
          7.74
         ],
         "yaxis": "y3"
        },
        {
         "alignmentgroup": "True",
         "hovertemplate": "Transmission=%{x}<br>Fuel_Type=Petrol<br>Present_Price=%{y}<extra></extra>",
         "legendgroup": "Automatic",
         "marker": {
          "color": "#EF553B"
         },
         "name": "Automatic",
         "offsetgroup": "Automatic",
         "orientation": "v",
         "showlegend": true,
         "textposition": "auto",
         "type": "bar",
         "x": [
          "Automatic",
          "Automatic",
          "Automatic",
          "Automatic",
          "Automatic",
          "Automatic",
          "Automatic",
          "Automatic",
          "Automatic",
          "Automatic",
          "Automatic",
          "Automatic",
          "Automatic",
          "Automatic",
          "Automatic",
          "Automatic",
          "Automatic",
          "Automatic",
          "Automatic",
          "Automatic",
          "Automatic",
          "Automatic",
          "Automatic",
          "Automatic",
          "Automatic",
          "Automatic",
          "Automatic",
          "Automatic"
         ],
         "xaxis": "x",
         "y": [
          9.94,
          8.01,
          7.87,
          12.04,
          9.29,
          15.04,
          23.15,
          12.35,
          22.83,
          23.73,
          22.78,
          0.51,
          0.51,
          0.54,
          0.51,
          0.57,
          0.52,
          0.58,
          0.52,
          0.52,
          5.7,
          6.79,
          9.4,
          14.79,
          6.82,
          13.6,
          8.5,
          7.5
         ],
         "yaxis": "y"
        },
        {
         "alignmentgroup": "True",
         "hovertemplate": "Transmission=%{x}<br>Fuel_Type=Diesel<br>Present_Price=%{y}<extra></extra>",
         "legendgroup": "Automatic",
         "marker": {
          "color": "#EF553B"
         },
         "name": "Automatic",
         "offsetgroup": "Automatic",
         "orientation": "v",
         "showlegend": false,
         "textposition": "auto",
         "type": "bar",
         "x": [
          "Automatic",
          "Automatic",
          "Automatic",
          "Automatic",
          "Automatic",
          "Automatic",
          "Automatic",
          "Automatic",
          "Automatic",
          "Automatic",
          "Automatic",
          "Automatic"
         ],
         "xaxis": "x2",
         "y": [
          30.61,
          30.61,
          19.77,
          30.61,
          35.96,
          35.96,
          35.96,
          36.23,
          30.61,
          25.39,
          30.61,
          25.39
         ],
         "yaxis": "y2"
        }
       ],
       "layout": {
        "annotations": [
         {
          "font": {},
          "showarrow": false,
          "text": "Fuel_Type=Petrol",
          "x": 0.15999999999999998,
          "xanchor": "center",
          "xref": "paper",
          "y": 1,
          "yanchor": "bottom",
          "yref": "paper"
         },
         {
          "font": {},
          "showarrow": false,
          "text": "Fuel_Type=Diesel",
          "x": 0.49999999999999994,
          "xanchor": "center",
          "xref": "paper",
          "y": 1,
          "yanchor": "bottom",
          "yref": "paper"
         },
         {
          "font": {},
          "showarrow": false,
          "text": "Fuel_Type=CNG",
          "x": 0.8399999999999999,
          "xanchor": "center",
          "xref": "paper",
          "y": 1,
          "yanchor": "bottom",
          "yref": "paper"
         }
        ],
        "barmode": "relative",
        "legend": {
         "title": {
          "text": "Transmission"
         },
         "tracegroupgap": 0
        },
        "margin": {
         "t": 60
        },
        "template": {
         "data": {
          "bar": [
           {
            "error_x": {
             "color": "#2a3f5f"
            },
            "error_y": {
             "color": "#2a3f5f"
            },
            "marker": {
             "line": {
              "color": "#E5ECF6",
              "width": 0.5
             }
            },
            "type": "bar"
           }
          ],
          "barpolar": [
           {
            "marker": {
             "line": {
              "color": "#E5ECF6",
              "width": 0.5
             }
            },
            "type": "barpolar"
           }
          ],
          "carpet": [
           {
            "aaxis": {
             "endlinecolor": "#2a3f5f",
             "gridcolor": "white",
             "linecolor": "white",
             "minorgridcolor": "white",
             "startlinecolor": "#2a3f5f"
            },
            "baxis": {
             "endlinecolor": "#2a3f5f",
             "gridcolor": "white",
             "linecolor": "white",
             "minorgridcolor": "white",
             "startlinecolor": "#2a3f5f"
            },
            "type": "carpet"
           }
          ],
          "choropleth": [
           {
            "colorbar": {
             "outlinewidth": 0,
             "ticks": ""
            },
            "type": "choropleth"
           }
          ],
          "contour": [
           {
            "colorbar": {
             "outlinewidth": 0,
             "ticks": ""
            },
            "colorscale": [
             [
              0,
              "#0d0887"
             ],
             [
              0.1111111111111111,
              "#46039f"
             ],
             [
              0.2222222222222222,
              "#7201a8"
             ],
             [
              0.3333333333333333,
              "#9c179e"
             ],
             [
              0.4444444444444444,
              "#bd3786"
             ],
             [
              0.5555555555555556,
              "#d8576b"
             ],
             [
              0.6666666666666666,
              "#ed7953"
             ],
             [
              0.7777777777777778,
              "#fb9f3a"
             ],
             [
              0.8888888888888888,
              "#fdca26"
             ],
             [
              1,
              "#f0f921"
             ]
            ],
            "type": "contour"
           }
          ],
          "contourcarpet": [
           {
            "colorbar": {
             "outlinewidth": 0,
             "ticks": ""
            },
            "type": "contourcarpet"
           }
          ],
          "heatmap": [
           {
            "colorbar": {
             "outlinewidth": 0,
             "ticks": ""
            },
            "colorscale": [
             [
              0,
              "#0d0887"
             ],
             [
              0.1111111111111111,
              "#46039f"
             ],
             [
              0.2222222222222222,
              "#7201a8"
             ],
             [
              0.3333333333333333,
              "#9c179e"
             ],
             [
              0.4444444444444444,
              "#bd3786"
             ],
             [
              0.5555555555555556,
              "#d8576b"
             ],
             [
              0.6666666666666666,
              "#ed7953"
             ],
             [
              0.7777777777777778,
              "#fb9f3a"
             ],
             [
              0.8888888888888888,
              "#fdca26"
             ],
             [
              1,
              "#f0f921"
             ]
            ],
            "type": "heatmap"
           }
          ],
          "heatmapgl": [
           {
            "colorbar": {
             "outlinewidth": 0,
             "ticks": ""
            },
            "colorscale": [
             [
              0,
              "#0d0887"
             ],
             [
              0.1111111111111111,
              "#46039f"
             ],
             [
              0.2222222222222222,
              "#7201a8"
             ],
             [
              0.3333333333333333,
              "#9c179e"
             ],
             [
              0.4444444444444444,
              "#bd3786"
             ],
             [
              0.5555555555555556,
              "#d8576b"
             ],
             [
              0.6666666666666666,
              "#ed7953"
             ],
             [
              0.7777777777777778,
              "#fb9f3a"
             ],
             [
              0.8888888888888888,
              "#fdca26"
             ],
             [
              1,
              "#f0f921"
             ]
            ],
            "type": "heatmapgl"
           }
          ],
          "histogram": [
           {
            "marker": {
             "colorbar": {
              "outlinewidth": 0,
              "ticks": ""
             }
            },
            "type": "histogram"
           }
          ],
          "histogram2d": [
           {
            "colorbar": {
             "outlinewidth": 0,
             "ticks": ""
            },
            "colorscale": [
             [
              0,
              "#0d0887"
             ],
             [
              0.1111111111111111,
              "#46039f"
             ],
             [
              0.2222222222222222,
              "#7201a8"
             ],
             [
              0.3333333333333333,
              "#9c179e"
             ],
             [
              0.4444444444444444,
              "#bd3786"
             ],
             [
              0.5555555555555556,
              "#d8576b"
             ],
             [
              0.6666666666666666,
              "#ed7953"
             ],
             [
              0.7777777777777778,
              "#fb9f3a"
             ],
             [
              0.8888888888888888,
              "#fdca26"
             ],
             [
              1,
              "#f0f921"
             ]
            ],
            "type": "histogram2d"
           }
          ],
          "histogram2dcontour": [
           {
            "colorbar": {
             "outlinewidth": 0,
             "ticks": ""
            },
            "colorscale": [
             [
              0,
              "#0d0887"
             ],
             [
              0.1111111111111111,
              "#46039f"
             ],
             [
              0.2222222222222222,
              "#7201a8"
             ],
             [
              0.3333333333333333,
              "#9c179e"
             ],
             [
              0.4444444444444444,
              "#bd3786"
             ],
             [
              0.5555555555555556,
              "#d8576b"
             ],
             [
              0.6666666666666666,
              "#ed7953"
             ],
             [
              0.7777777777777778,
              "#fb9f3a"
             ],
             [
              0.8888888888888888,
              "#fdca26"
             ],
             [
              1,
              "#f0f921"
             ]
            ],
            "type": "histogram2dcontour"
           }
          ],
          "mesh3d": [
           {
            "colorbar": {
             "outlinewidth": 0,
             "ticks": ""
            },
            "type": "mesh3d"
           }
          ],
          "parcoords": [
           {
            "line": {
             "colorbar": {
              "outlinewidth": 0,
              "ticks": ""
             }
            },
            "type": "parcoords"
           }
          ],
          "pie": [
           {
            "automargin": true,
            "type": "pie"
           }
          ],
          "scatter": [
           {
            "marker": {
             "colorbar": {
              "outlinewidth": 0,
              "ticks": ""
             }
            },
            "type": "scatter"
           }
          ],
          "scatter3d": [
           {
            "line": {
             "colorbar": {
              "outlinewidth": 0,
              "ticks": ""
             }
            },
            "marker": {
             "colorbar": {
              "outlinewidth": 0,
              "ticks": ""
             }
            },
            "type": "scatter3d"
           }
          ],
          "scattercarpet": [
           {
            "marker": {
             "colorbar": {
              "outlinewidth": 0,
              "ticks": ""
             }
            },
            "type": "scattercarpet"
           }
          ],
          "scattergeo": [
           {
            "marker": {
             "colorbar": {
              "outlinewidth": 0,
              "ticks": ""
             }
            },
            "type": "scattergeo"
           }
          ],
          "scattergl": [
           {
            "marker": {
             "colorbar": {
              "outlinewidth": 0,
              "ticks": ""
             }
            },
            "type": "scattergl"
           }
          ],
          "scattermapbox": [
           {
            "marker": {
             "colorbar": {
              "outlinewidth": 0,
              "ticks": ""
             }
            },
            "type": "scattermapbox"
           }
          ],
          "scatterpolar": [
           {
            "marker": {
             "colorbar": {
              "outlinewidth": 0,
              "ticks": ""
             }
            },
            "type": "scatterpolar"
           }
          ],
          "scatterpolargl": [
           {
            "marker": {
             "colorbar": {
              "outlinewidth": 0,
              "ticks": ""
             }
            },
            "type": "scatterpolargl"
           }
          ],
          "scatterternary": [
           {
            "marker": {
             "colorbar": {
              "outlinewidth": 0,
              "ticks": ""
             }
            },
            "type": "scatterternary"
           }
          ],
          "surface": [
           {
            "colorbar": {
             "outlinewidth": 0,
             "ticks": ""
            },
            "colorscale": [
             [
              0,
              "#0d0887"
             ],
             [
              0.1111111111111111,
              "#46039f"
             ],
             [
              0.2222222222222222,
              "#7201a8"
             ],
             [
              0.3333333333333333,
              "#9c179e"
             ],
             [
              0.4444444444444444,
              "#bd3786"
             ],
             [
              0.5555555555555556,
              "#d8576b"
             ],
             [
              0.6666666666666666,
              "#ed7953"
             ],
             [
              0.7777777777777778,
              "#fb9f3a"
             ],
             [
              0.8888888888888888,
              "#fdca26"
             ],
             [
              1,
              "#f0f921"
             ]
            ],
            "type": "surface"
           }
          ],
          "table": [
           {
            "cells": {
             "fill": {
              "color": "#EBF0F8"
             },
             "line": {
              "color": "white"
             }
            },
            "header": {
             "fill": {
              "color": "#C8D4E3"
             },
             "line": {
              "color": "white"
             }
            },
            "type": "table"
           }
          ]
         },
         "layout": {
          "annotationdefaults": {
           "arrowcolor": "#2a3f5f",
           "arrowhead": 0,
           "arrowwidth": 1
          },
          "autotypenumbers": "strict",
          "coloraxis": {
           "colorbar": {
            "outlinewidth": 0,
            "ticks": ""
           }
          },
          "colorscale": {
           "diverging": [
            [
             0,
             "#8e0152"
            ],
            [
             0.1,
             "#c51b7d"
            ],
            [
             0.2,
             "#de77ae"
            ],
            [
             0.3,
             "#f1b6da"
            ],
            [
             0.4,
             "#fde0ef"
            ],
            [
             0.5,
             "#f7f7f7"
            ],
            [
             0.6,
             "#e6f5d0"
            ],
            [
             0.7,
             "#b8e186"
            ],
            [
             0.8,
             "#7fbc41"
            ],
            [
             0.9,
             "#4d9221"
            ],
            [
             1,
             "#276419"
            ]
           ],
           "sequential": [
            [
             0,
             "#0d0887"
            ],
            [
             0.1111111111111111,
             "#46039f"
            ],
            [
             0.2222222222222222,
             "#7201a8"
            ],
            [
             0.3333333333333333,
             "#9c179e"
            ],
            [
             0.4444444444444444,
             "#bd3786"
            ],
            [
             0.5555555555555556,
             "#d8576b"
            ],
            [
             0.6666666666666666,
             "#ed7953"
            ],
            [
             0.7777777777777778,
             "#fb9f3a"
            ],
            [
             0.8888888888888888,
             "#fdca26"
            ],
            [
             1,
             "#f0f921"
            ]
           ],
           "sequentialminus": [
            [
             0,
             "#0d0887"
            ],
            [
             0.1111111111111111,
             "#46039f"
            ],
            [
             0.2222222222222222,
             "#7201a8"
            ],
            [
             0.3333333333333333,
             "#9c179e"
            ],
            [
             0.4444444444444444,
             "#bd3786"
            ],
            [
             0.5555555555555556,
             "#d8576b"
            ],
            [
             0.6666666666666666,
             "#ed7953"
            ],
            [
             0.7777777777777778,
             "#fb9f3a"
            ],
            [
             0.8888888888888888,
             "#fdca26"
            ],
            [
             1,
             "#f0f921"
            ]
           ]
          },
          "colorway": [
           "#636efa",
           "#EF553B",
           "#00cc96",
           "#ab63fa",
           "#FFA15A",
           "#19d3f3",
           "#FF6692",
           "#B6E880",
           "#FF97FF",
           "#FECB52"
          ],
          "font": {
           "color": "#2a3f5f"
          },
          "geo": {
           "bgcolor": "white",
           "lakecolor": "white",
           "landcolor": "#E5ECF6",
           "showlakes": true,
           "showland": true,
           "subunitcolor": "white"
          },
          "hoverlabel": {
           "align": "left"
          },
          "hovermode": "closest",
          "mapbox": {
           "style": "light"
          },
          "paper_bgcolor": "white",
          "plot_bgcolor": "#E5ECF6",
          "polar": {
           "angularaxis": {
            "gridcolor": "white",
            "linecolor": "white",
            "ticks": ""
           },
           "bgcolor": "#E5ECF6",
           "radialaxis": {
            "gridcolor": "white",
            "linecolor": "white",
            "ticks": ""
           }
          },
          "scene": {
           "xaxis": {
            "backgroundcolor": "#E5ECF6",
            "gridcolor": "white",
            "gridwidth": 2,
            "linecolor": "white",
            "showbackground": true,
            "ticks": "",
            "zerolinecolor": "white"
           },
           "yaxis": {
            "backgroundcolor": "#E5ECF6",
            "gridcolor": "white",
            "gridwidth": 2,
            "linecolor": "white",
            "showbackground": true,
            "ticks": "",
            "zerolinecolor": "white"
           },
           "zaxis": {
            "backgroundcolor": "#E5ECF6",
            "gridcolor": "white",
            "gridwidth": 2,
            "linecolor": "white",
            "showbackground": true,
            "ticks": "",
            "zerolinecolor": "white"
           }
          },
          "shapedefaults": {
           "line": {
            "color": "#2a3f5f"
           }
          },
          "ternary": {
           "aaxis": {
            "gridcolor": "white",
            "linecolor": "white",
            "ticks": ""
           },
           "baxis": {
            "gridcolor": "white",
            "linecolor": "white",
            "ticks": ""
           },
           "bgcolor": "#E5ECF6",
           "caxis": {
            "gridcolor": "white",
            "linecolor": "white",
            "ticks": ""
           }
          },
          "title": {
           "x": 0.05
          },
          "xaxis": {
           "automargin": true,
           "gridcolor": "white",
           "linecolor": "white",
           "ticks": "",
           "title": {
            "standoff": 15
           },
           "zerolinecolor": "white",
           "zerolinewidth": 2
          },
          "yaxis": {
           "automargin": true,
           "gridcolor": "white",
           "linecolor": "white",
           "ticks": "",
           "title": {
            "standoff": 15
           },
           "zerolinecolor": "white",
           "zerolinewidth": 2
          }
         }
        },
        "xaxis": {
         "anchor": "y",
         "categoryarray": [
          "Manual",
          "Automatic"
         ],
         "categoryorder": "array",
         "domain": [
          0,
          0.31999999999999995
         ],
         "title": {
          "text": "Transmission"
         }
        },
        "xaxis2": {
         "anchor": "y2",
         "categoryarray": [
          "Manual",
          "Automatic"
         ],
         "categoryorder": "array",
         "domain": [
          0.33999999999999997,
          0.6599999999999999
         ],
         "matches": "x",
         "title": {
          "text": "Transmission"
         }
        },
        "xaxis3": {
         "anchor": "y3",
         "categoryarray": [
          "Manual",
          "Automatic"
         ],
         "categoryorder": "array",
         "domain": [
          0.6799999999999999,
          0.9999999999999999
         ],
         "matches": "x",
         "title": {
          "text": "Transmission"
         }
        },
        "yaxis": {
         "anchor": "x",
         "domain": [
          0,
          1
         ],
         "title": {
          "text": "Present_Price"
         }
        },
        "yaxis2": {
         "anchor": "x2",
         "domain": [
          0,
          1
         ],
         "matches": "y",
         "showticklabels": false
        },
        "yaxis3": {
         "anchor": "x3",
         "domain": [
          0,
          1
         ],
         "matches": "y",
         "showticklabels": false
        }
       }
      },
      "text/html": [
       "<div>                            <div id=\"d7870f17-ce6e-4e0c-ac0e-f467eef0eeb3\" class=\"plotly-graph-div\" style=\"height:525px; width:100%;\"></div>            <script type=\"text/javascript\">                require([\"plotly\"], function(Plotly) {                    window.PLOTLYENV=window.PLOTLYENV || {};                                    if (document.getElementById(\"d7870f17-ce6e-4e0c-ac0e-f467eef0eeb3\")) {                    Plotly.newPlot(                        \"d7870f17-ce6e-4e0c-ac0e-f467eef0eeb3\",                        [{\"alignmentgroup\": \"True\", \"hovertemplate\": \"Transmission=%{x}<br>Fuel_Type=Petrol<br>Present_Price=%{y}<extra></extra>\", \"legendgroup\": \"Manual\", \"marker\": {\"color\": \"#636efa\"}, \"name\": \"Manual\", \"offsetgroup\": \"Manual\", \"orientation\": \"v\", \"showlegend\": true, \"textposition\": \"auto\", \"type\": \"bar\", \"x\": [\"Manual\", \"Manual\", \"Manual\", \"Manual\", \"Manual\", \"Manual\", \"Manual\", \"Manual\", \"Manual\", \"Manual\", \"Manual\", \"Manual\", \"Manual\", \"Manual\", \"Manual\", \"Manual\", \"Manual\", \"Manual\", \"Manual\", \"Manual\", \"Manual\", \"Manual\", \"Manual\", \"Manual\", \"Manual\", \"Manual\", \"Manual\", \"Manual\", \"Manual\", \"Manual\", \"Manual\", \"Manual\", \"Manual\", \"Manual\", \"Manual\", \"Manual\", \"Manual\", \"Manual\", \"Manual\", \"Manual\", \"Manual\", \"Manual\", \"Manual\", \"Manual\", \"Manual\", \"Manual\", \"Manual\", \"Manual\", \"Manual\", \"Manual\", \"Manual\", \"Manual\", \"Manual\", \"Manual\", \"Manual\", \"Manual\", \"Manual\", \"Manual\", \"Manual\", \"Manual\", \"Manual\", \"Manual\", \"Manual\", \"Manual\", \"Manual\", \"Manual\", \"Manual\", \"Manual\", \"Manual\", \"Manual\", \"Manual\", \"Manual\", \"Manual\", \"Manual\", \"Manual\", \"Manual\", \"Manual\", \"Manual\", \"Manual\", \"Manual\", \"Manual\", \"Manual\", \"Manual\", \"Manual\", \"Manual\", \"Manual\", \"Manual\", \"Manual\", \"Manual\", \"Manual\", \"Manual\", \"Manual\", \"Manual\", \"Manual\", \"Manual\", \"Manual\", \"Manual\", \"Manual\", \"Manual\", \"Manual\", \"Manual\", \"Manual\", \"Manual\", \"Manual\", \"Manual\", \"Manual\", \"Manual\", \"Manual\", \"Manual\", \"Manual\", \"Manual\", \"Manual\", \"Manual\", \"Manual\", \"Manual\", \"Manual\", \"Manual\", \"Manual\", \"Manual\", \"Manual\", \"Manual\", \"Manual\", \"Manual\", \"Manual\", \"Manual\", \"Manual\", \"Manual\", \"Manual\", \"Manual\", \"Manual\", \"Manual\", \"Manual\", \"Manual\", \"Manual\", \"Manual\", \"Manual\", \"Manual\", \"Manual\", \"Manual\", \"Manual\", \"Manual\", \"Manual\", \"Manual\", \"Manual\", \"Manual\", \"Manual\", \"Manual\", \"Manual\", \"Manual\", \"Manual\", \"Manual\", \"Manual\", \"Manual\", \"Manual\", \"Manual\", \"Manual\", \"Manual\", \"Manual\", \"Manual\", \"Manual\", \"Manual\", \"Manual\", \"Manual\", \"Manual\", \"Manual\", \"Manual\", \"Manual\", \"Manual\", \"Manual\", \"Manual\", \"Manual\", \"Manual\", \"Manual\", \"Manual\", \"Manual\", \"Manual\", \"Manual\", \"Manual\", \"Manual\", \"Manual\", \"Manual\", \"Manual\", \"Manual\", \"Manual\", \"Manual\", \"Manual\", \"Manual\", \"Manual\", \"Manual\", \"Manual\", \"Manual\", \"Manual\", \"Manual\", \"Manual\", \"Manual\", \"Manual\", \"Manual\", \"Manual\", \"Manual\", \"Manual\", \"Manual\", \"Manual\", \"Manual\", \"Manual\", \"Manual\", \"Manual\", \"Manual\", \"Manual\", \"Manual\", \"Manual\", \"Manual\"], \"xaxis\": \"x\", \"y\": [5.59, 9.85, 4.15, 8.12, 3.6, 7.71, 7.21, 7.98, 3.95, 5.71, 3.46, 4.41, 4.99, 5.87, 6.49, 3.95, 4.89, 7.2, 2.28, 3.76, 7.98, 3.98, 7.15, 2.69, 4.89, 4.15, 7.71, 10.21, 7.27, 18.54, 6.8, 18.61, 7.7, 13.74, 20.91, 18.61, 5.71, 6.8, 14.68, 13.74, 6.05, 6.76, 18.61, 13.7, 18.61, 18.64, 18.61, 1.9, 1.82, 1.78, 1.6, 1.47, 2.37, 3.45, 1.5, 1.5, 1.47, 1.78, 1.5, 2.4, 1.4, 1.47, 1.47, 1.47, 1.9, 1.47, 1.9, 1.26, 1.5, 1.17, 1.47, 1.75, 1.75, 0.95, 0.8, 0.87, 0.84, 0.87, 0.82, 0.95, 0.95, 0.81, 0.74, 1.2, 0.787, 0.87, 0.95, 1.2, 0.8, 0.84, 0.84, 0.99, 0.81, 0.787, 0.84, 0.94, 0.94, 0.826, 0.55, 0.99, 0.99, 0.88, 0.52, 0.84, 0.54, 0.95, 0.826, 0.99, 0.95, 0.54, 0.55, 0.81, 0.73, 0.54, 0.83, 0.55, 0.64, 0.72, 0.787, 1.05, 1.05, 0.51, 0.48, 0.58, 0.47, 0.75, 0.51, 0.57, 0.57, 0.75, 0.57, 0.75, 0.65, 0.787, 0.32, 0.51, 0.57, 0.58, 0.75, 5.7, 4.6, 4.43, 5.7, 7.13, 8.1, 4.6, 13.6, 6.79, 5.7, 9.4, 4.43, 4.43, 9.4, 9.4, 4.43, 4.6, 5.7, 4.43, 9.4, 5.7, 9.4, 4.43, 9.4, 4.43, 7.13, 7.13, 7.6, 6.79, 9.4, 4.6, 7.6, 9.9, 9.9, 5.35, 13.6, 13.6, 13.6, 7.0, 13.6, 5.97, 5.8, 7.7, 7.0, 8.7, 7.0, 5.8, 10.0, 10.0, 10.0, 10.0, 7.5, 6.8, 13.6, 13.6, 8.4, 13.6, 5.9, 7.6, 11.8, 5.9, 7.9, 13.6, 13.6, 6.4, 6.1, 8.4, 9.9, 6.8, 5.9, 11.0, 5.9], \"yaxis\": \"y\"}, {\"alignmentgroup\": \"True\", \"hovertemplate\": \"Transmission=%{x}<br>Fuel_Type=Diesel<br>Present_Price=%{y}<extra></extra>\", \"legendgroup\": \"Manual\", \"marker\": {\"color\": \"#636efa\"}, \"name\": \"Manual\", \"offsetgroup\": \"Manual\", \"orientation\": \"v\", \"showlegend\": false, \"textposition\": \"auto\", \"type\": \"bar\", \"x\": [\"Manual\", \"Manual\", \"Manual\", \"Manual\", \"Manual\", \"Manual\", \"Manual\", \"Manual\", \"Manual\", \"Manual\", \"Manual\", \"Manual\", \"Manual\", \"Manual\", \"Manual\", \"Manual\", \"Manual\", \"Manual\", \"Manual\", \"Manual\", \"Manual\", \"Manual\", \"Manual\", \"Manual\", \"Manual\", \"Manual\", \"Manual\", \"Manual\", \"Manual\", \"Manual\", \"Manual\", \"Manual\", \"Manual\", \"Manual\", \"Manual\", \"Manual\", \"Manual\", \"Manual\", \"Manual\", \"Manual\", \"Manual\", \"Manual\", \"Manual\", \"Manual\", \"Manual\", \"Manual\", \"Manual\", \"Manual\"], \"xaxis\": \"x2\", \"y\": [9.54, 6.87, 9.83, 8.61, 8.89, 8.92, 10.38, 10.79, 10.79, 10.79, 10.38, 5.98, 7.49, 9.95, 8.06, 8.06, 6.95, 20.45, 6.76, 12.48, 8.93, 14.89, 7.85, 13.46, 13.46, 92.6, 16.09, 20.45, 6.79, 5.7, 14.79, 7.6, 9.4, 9.4, 6.79, 9.4, 5.7, 13.6, 9.4, 9.4, 9.4, 13.6, 9.9, 9.4, 14.0, 13.09, 11.6, 12.5], \"yaxis\": \"y2\"}, {\"alignmentgroup\": \"True\", \"hovertemplate\": \"Transmission=%{x}<br>Fuel_Type=CNG<br>Present_Price=%{y}<extra></extra>\", \"legendgroup\": \"Manual\", \"marker\": {\"color\": \"#636efa\"}, \"name\": \"Manual\", \"offsetgroup\": \"Manual\", \"orientation\": \"v\", \"showlegend\": false, \"textposition\": \"auto\", \"type\": \"bar\", \"x\": [\"Manual\", \"Manual\"], \"xaxis\": \"x3\", \"y\": [5.09, 7.74], \"yaxis\": \"y3\"}, {\"alignmentgroup\": \"True\", \"hovertemplate\": \"Transmission=%{x}<br>Fuel_Type=Petrol<br>Present_Price=%{y}<extra></extra>\", \"legendgroup\": \"Automatic\", \"marker\": {\"color\": \"#EF553B\"}, \"name\": \"Automatic\", \"offsetgroup\": \"Automatic\", \"orientation\": \"v\", \"showlegend\": true, \"textposition\": \"auto\", \"type\": \"bar\", \"x\": [\"Automatic\", \"Automatic\", \"Automatic\", \"Automatic\", \"Automatic\", \"Automatic\", \"Automatic\", \"Automatic\", \"Automatic\", \"Automatic\", \"Automatic\", \"Automatic\", \"Automatic\", \"Automatic\", \"Automatic\", \"Automatic\", \"Automatic\", \"Automatic\", \"Automatic\", \"Automatic\", \"Automatic\", \"Automatic\", \"Automatic\", \"Automatic\", \"Automatic\", \"Automatic\", \"Automatic\", \"Automatic\"], \"xaxis\": \"x\", \"y\": [9.94, 8.01, 7.87, 12.04, 9.29, 15.04, 23.15, 12.35, 22.83, 23.73, 22.78, 0.51, 0.51, 0.54, 0.51, 0.57, 0.52, 0.58, 0.52, 0.52, 5.7, 6.79, 9.4, 14.79, 6.82, 13.6, 8.5, 7.5], \"yaxis\": \"y\"}, {\"alignmentgroup\": \"True\", \"hovertemplate\": \"Transmission=%{x}<br>Fuel_Type=Diesel<br>Present_Price=%{y}<extra></extra>\", \"legendgroup\": \"Automatic\", \"marker\": {\"color\": \"#EF553B\"}, \"name\": \"Automatic\", \"offsetgroup\": \"Automatic\", \"orientation\": \"v\", \"showlegend\": false, \"textposition\": \"auto\", \"type\": \"bar\", \"x\": [\"Automatic\", \"Automatic\", \"Automatic\", \"Automatic\", \"Automatic\", \"Automatic\", \"Automatic\", \"Automatic\", \"Automatic\", \"Automatic\", \"Automatic\", \"Automatic\"], \"xaxis\": \"x2\", \"y\": [30.61, 30.61, 19.77, 30.61, 35.96, 35.96, 35.96, 36.23, 30.61, 25.39, 30.61, 25.39], \"yaxis\": \"y2\"}],                        {\"annotations\": [{\"font\": {}, \"showarrow\": false, \"text\": \"Fuel_Type=Petrol\", \"x\": 0.15999999999999998, \"xanchor\": \"center\", \"xref\": \"paper\", \"y\": 1.0, \"yanchor\": \"bottom\", \"yref\": \"paper\"}, {\"font\": {}, \"showarrow\": false, \"text\": \"Fuel_Type=Diesel\", \"x\": 0.49999999999999994, \"xanchor\": \"center\", \"xref\": \"paper\", \"y\": 1.0, \"yanchor\": \"bottom\", \"yref\": \"paper\"}, {\"font\": {}, \"showarrow\": false, \"text\": \"Fuel_Type=CNG\", \"x\": 0.8399999999999999, \"xanchor\": \"center\", \"xref\": \"paper\", \"y\": 1.0, \"yanchor\": \"bottom\", \"yref\": \"paper\"}], \"barmode\": \"relative\", \"legend\": {\"title\": {\"text\": \"Transmission\"}, \"tracegroupgap\": 0}, \"margin\": {\"t\": 60}, \"template\": {\"data\": {\"bar\": [{\"error_x\": {\"color\": \"#2a3f5f\"}, \"error_y\": {\"color\": \"#2a3f5f\"}, \"marker\": {\"line\": {\"color\": \"#E5ECF6\", \"width\": 0.5}}, \"type\": \"bar\"}], \"barpolar\": [{\"marker\": {\"line\": {\"color\": \"#E5ECF6\", \"width\": 0.5}}, \"type\": \"barpolar\"}], \"carpet\": [{\"aaxis\": {\"endlinecolor\": \"#2a3f5f\", \"gridcolor\": \"white\", \"linecolor\": \"white\", \"minorgridcolor\": \"white\", \"startlinecolor\": \"#2a3f5f\"}, \"baxis\": {\"endlinecolor\": \"#2a3f5f\", \"gridcolor\": \"white\", \"linecolor\": \"white\", \"minorgridcolor\": \"white\", \"startlinecolor\": \"#2a3f5f\"}, \"type\": \"carpet\"}], \"choropleth\": [{\"colorbar\": {\"outlinewidth\": 0, \"ticks\": \"\"}, \"type\": \"choropleth\"}], \"contour\": [{\"colorbar\": {\"outlinewidth\": 0, \"ticks\": \"\"}, \"colorscale\": [[0.0, \"#0d0887\"], [0.1111111111111111, \"#46039f\"], [0.2222222222222222, \"#7201a8\"], [0.3333333333333333, \"#9c179e\"], [0.4444444444444444, \"#bd3786\"], [0.5555555555555556, \"#d8576b\"], [0.6666666666666666, \"#ed7953\"], [0.7777777777777778, \"#fb9f3a\"], [0.8888888888888888, \"#fdca26\"], [1.0, \"#f0f921\"]], \"type\": \"contour\"}], \"contourcarpet\": [{\"colorbar\": {\"outlinewidth\": 0, \"ticks\": \"\"}, \"type\": \"contourcarpet\"}], \"heatmap\": [{\"colorbar\": {\"outlinewidth\": 0, \"ticks\": \"\"}, \"colorscale\": [[0.0, \"#0d0887\"], [0.1111111111111111, \"#46039f\"], [0.2222222222222222, \"#7201a8\"], [0.3333333333333333, \"#9c179e\"], [0.4444444444444444, \"#bd3786\"], [0.5555555555555556, \"#d8576b\"], [0.6666666666666666, \"#ed7953\"], [0.7777777777777778, \"#fb9f3a\"], [0.8888888888888888, \"#fdca26\"], [1.0, \"#f0f921\"]], \"type\": \"heatmap\"}], \"heatmapgl\": [{\"colorbar\": {\"outlinewidth\": 0, \"ticks\": \"\"}, \"colorscale\": [[0.0, \"#0d0887\"], [0.1111111111111111, \"#46039f\"], [0.2222222222222222, \"#7201a8\"], [0.3333333333333333, \"#9c179e\"], [0.4444444444444444, \"#bd3786\"], [0.5555555555555556, \"#d8576b\"], [0.6666666666666666, \"#ed7953\"], [0.7777777777777778, \"#fb9f3a\"], [0.8888888888888888, \"#fdca26\"], [1.0, \"#f0f921\"]], \"type\": \"heatmapgl\"}], \"histogram\": [{\"marker\": {\"colorbar\": {\"outlinewidth\": 0, \"ticks\": \"\"}}, \"type\": \"histogram\"}], \"histogram2d\": [{\"colorbar\": {\"outlinewidth\": 0, \"ticks\": \"\"}, \"colorscale\": [[0.0, \"#0d0887\"], [0.1111111111111111, \"#46039f\"], [0.2222222222222222, \"#7201a8\"], [0.3333333333333333, \"#9c179e\"], [0.4444444444444444, \"#bd3786\"], [0.5555555555555556, \"#d8576b\"], [0.6666666666666666, \"#ed7953\"], [0.7777777777777778, \"#fb9f3a\"], [0.8888888888888888, \"#fdca26\"], [1.0, \"#f0f921\"]], \"type\": \"histogram2d\"}], \"histogram2dcontour\": [{\"colorbar\": {\"outlinewidth\": 0, \"ticks\": \"\"}, \"colorscale\": [[0.0, \"#0d0887\"], [0.1111111111111111, \"#46039f\"], [0.2222222222222222, \"#7201a8\"], [0.3333333333333333, \"#9c179e\"], [0.4444444444444444, \"#bd3786\"], [0.5555555555555556, \"#d8576b\"], [0.6666666666666666, \"#ed7953\"], [0.7777777777777778, \"#fb9f3a\"], [0.8888888888888888, \"#fdca26\"], [1.0, \"#f0f921\"]], \"type\": \"histogram2dcontour\"}], \"mesh3d\": [{\"colorbar\": {\"outlinewidth\": 0, \"ticks\": \"\"}, \"type\": \"mesh3d\"}], \"parcoords\": [{\"line\": {\"colorbar\": {\"outlinewidth\": 0, \"ticks\": \"\"}}, \"type\": \"parcoords\"}], \"pie\": [{\"automargin\": true, \"type\": \"pie\"}], \"scatter\": [{\"marker\": {\"colorbar\": {\"outlinewidth\": 0, \"ticks\": \"\"}}, \"type\": \"scatter\"}], \"scatter3d\": [{\"line\": {\"colorbar\": {\"outlinewidth\": 0, \"ticks\": \"\"}}, \"marker\": {\"colorbar\": {\"outlinewidth\": 0, \"ticks\": \"\"}}, \"type\": \"scatter3d\"}], \"scattercarpet\": [{\"marker\": {\"colorbar\": {\"outlinewidth\": 0, \"ticks\": \"\"}}, \"type\": \"scattercarpet\"}], \"scattergeo\": [{\"marker\": {\"colorbar\": {\"outlinewidth\": 0, \"ticks\": \"\"}}, \"type\": \"scattergeo\"}], \"scattergl\": [{\"marker\": {\"colorbar\": {\"outlinewidth\": 0, \"ticks\": \"\"}}, \"type\": \"scattergl\"}], \"scattermapbox\": [{\"marker\": {\"colorbar\": {\"outlinewidth\": 0, \"ticks\": \"\"}}, \"type\": \"scattermapbox\"}], \"scatterpolar\": [{\"marker\": {\"colorbar\": {\"outlinewidth\": 0, \"ticks\": \"\"}}, \"type\": \"scatterpolar\"}], \"scatterpolargl\": [{\"marker\": {\"colorbar\": {\"outlinewidth\": 0, \"ticks\": \"\"}}, \"type\": \"scatterpolargl\"}], \"scatterternary\": [{\"marker\": {\"colorbar\": {\"outlinewidth\": 0, \"ticks\": \"\"}}, \"type\": \"scatterternary\"}], \"surface\": [{\"colorbar\": {\"outlinewidth\": 0, \"ticks\": \"\"}, \"colorscale\": [[0.0, \"#0d0887\"], [0.1111111111111111, \"#46039f\"], [0.2222222222222222, \"#7201a8\"], [0.3333333333333333, \"#9c179e\"], [0.4444444444444444, \"#bd3786\"], [0.5555555555555556, \"#d8576b\"], [0.6666666666666666, \"#ed7953\"], [0.7777777777777778, \"#fb9f3a\"], [0.8888888888888888, \"#fdca26\"], [1.0, \"#f0f921\"]], \"type\": \"surface\"}], \"table\": [{\"cells\": {\"fill\": {\"color\": \"#EBF0F8\"}, \"line\": {\"color\": \"white\"}}, \"header\": {\"fill\": {\"color\": \"#C8D4E3\"}, \"line\": {\"color\": \"white\"}}, \"type\": \"table\"}]}, \"layout\": {\"annotationdefaults\": {\"arrowcolor\": \"#2a3f5f\", \"arrowhead\": 0, \"arrowwidth\": 1}, \"autotypenumbers\": \"strict\", \"coloraxis\": {\"colorbar\": {\"outlinewidth\": 0, \"ticks\": \"\"}}, \"colorscale\": {\"diverging\": [[0, \"#8e0152\"], [0.1, \"#c51b7d\"], [0.2, \"#de77ae\"], [0.3, \"#f1b6da\"], [0.4, \"#fde0ef\"], [0.5, \"#f7f7f7\"], [0.6, \"#e6f5d0\"], [0.7, \"#b8e186\"], [0.8, \"#7fbc41\"], [0.9, \"#4d9221\"], [1, \"#276419\"]], \"sequential\": [[0.0, \"#0d0887\"], [0.1111111111111111, \"#46039f\"], [0.2222222222222222, \"#7201a8\"], [0.3333333333333333, \"#9c179e\"], [0.4444444444444444, \"#bd3786\"], [0.5555555555555556, \"#d8576b\"], [0.6666666666666666, \"#ed7953\"], [0.7777777777777778, \"#fb9f3a\"], [0.8888888888888888, \"#fdca26\"], [1.0, \"#f0f921\"]], \"sequentialminus\": [[0.0, \"#0d0887\"], [0.1111111111111111, \"#46039f\"], [0.2222222222222222, \"#7201a8\"], [0.3333333333333333, \"#9c179e\"], [0.4444444444444444, \"#bd3786\"], [0.5555555555555556, \"#d8576b\"], [0.6666666666666666, \"#ed7953\"], [0.7777777777777778, \"#fb9f3a\"], [0.8888888888888888, \"#fdca26\"], [1.0, \"#f0f921\"]]}, \"colorway\": [\"#636efa\", \"#EF553B\", \"#00cc96\", \"#ab63fa\", \"#FFA15A\", \"#19d3f3\", \"#FF6692\", \"#B6E880\", \"#FF97FF\", \"#FECB52\"], \"font\": {\"color\": \"#2a3f5f\"}, \"geo\": {\"bgcolor\": \"white\", \"lakecolor\": \"white\", \"landcolor\": \"#E5ECF6\", \"showlakes\": true, \"showland\": true, \"subunitcolor\": \"white\"}, \"hoverlabel\": {\"align\": \"left\"}, \"hovermode\": \"closest\", \"mapbox\": {\"style\": \"light\"}, \"paper_bgcolor\": \"white\", \"plot_bgcolor\": \"#E5ECF6\", \"polar\": {\"angularaxis\": {\"gridcolor\": \"white\", \"linecolor\": \"white\", \"ticks\": \"\"}, \"bgcolor\": \"#E5ECF6\", \"radialaxis\": {\"gridcolor\": \"white\", \"linecolor\": \"white\", \"ticks\": \"\"}}, \"scene\": {\"xaxis\": {\"backgroundcolor\": \"#E5ECF6\", \"gridcolor\": \"white\", \"gridwidth\": 2, \"linecolor\": \"white\", \"showbackground\": true, \"ticks\": \"\", \"zerolinecolor\": \"white\"}, \"yaxis\": {\"backgroundcolor\": \"#E5ECF6\", \"gridcolor\": \"white\", \"gridwidth\": 2, \"linecolor\": \"white\", \"showbackground\": true, \"ticks\": \"\", \"zerolinecolor\": \"white\"}, \"zaxis\": {\"backgroundcolor\": \"#E5ECF6\", \"gridcolor\": \"white\", \"gridwidth\": 2, \"linecolor\": \"white\", \"showbackground\": true, \"ticks\": \"\", \"zerolinecolor\": \"white\"}}, \"shapedefaults\": {\"line\": {\"color\": \"#2a3f5f\"}}, \"ternary\": {\"aaxis\": {\"gridcolor\": \"white\", \"linecolor\": \"white\", \"ticks\": \"\"}, \"baxis\": {\"gridcolor\": \"white\", \"linecolor\": \"white\", \"ticks\": \"\"}, \"bgcolor\": \"#E5ECF6\", \"caxis\": {\"gridcolor\": \"white\", \"linecolor\": \"white\", \"ticks\": \"\"}}, \"title\": {\"x\": 0.05}, \"xaxis\": {\"automargin\": true, \"gridcolor\": \"white\", \"linecolor\": \"white\", \"ticks\": \"\", \"title\": {\"standoff\": 15}, \"zerolinecolor\": \"white\", \"zerolinewidth\": 2}, \"yaxis\": {\"automargin\": true, \"gridcolor\": \"white\", \"linecolor\": \"white\", \"ticks\": \"\", \"title\": {\"standoff\": 15}, \"zerolinecolor\": \"white\", \"zerolinewidth\": 2}}}, \"xaxis\": {\"anchor\": \"y\", \"categoryarray\": [\"Manual\", \"Automatic\"], \"categoryorder\": \"array\", \"domain\": [0.0, 0.31999999999999995], \"title\": {\"text\": \"Transmission\"}}, \"xaxis2\": {\"anchor\": \"y2\", \"categoryarray\": [\"Manual\", \"Automatic\"], \"categoryorder\": \"array\", \"domain\": [0.33999999999999997, 0.6599999999999999], \"matches\": \"x\", \"title\": {\"text\": \"Transmission\"}}, \"xaxis3\": {\"anchor\": \"y3\", \"categoryarray\": [\"Manual\", \"Automatic\"], \"categoryorder\": \"array\", \"domain\": [0.6799999999999999, 0.9999999999999999], \"matches\": \"x\", \"title\": {\"text\": \"Transmission\"}}, \"yaxis\": {\"anchor\": \"x\", \"domain\": [0.0, 1.0], \"title\": {\"text\": \"Present_Price\"}}, \"yaxis2\": {\"anchor\": \"x2\", \"domain\": [0.0, 1.0], \"matches\": \"y\", \"showticklabels\": false}, \"yaxis3\": {\"anchor\": \"x3\", \"domain\": [0.0, 1.0], \"matches\": \"y\", \"showticklabels\": false}},                        {\"responsive\": true}                    ).then(function(){\n",
       "                            \n",
       "var gd = document.getElementById('d7870f17-ce6e-4e0c-ac0e-f467eef0eeb3');\n",
       "var x = new MutationObserver(function (mutations, observer) {{\n",
       "        var display = window.getComputedStyle(gd).display;\n",
       "        if (!display || display === 'none') {{\n",
       "            console.log([gd, 'removed!']);\n",
       "            Plotly.purge(gd);\n",
       "            observer.disconnect();\n",
       "        }}\n",
       "}});\n",
       "\n",
       "// Listen for the removal of the full notebook cells\n",
       "var notebookContainer = gd.closest('#notebook-container');\n",
       "if (notebookContainer) {{\n",
       "    x.observe(notebookContainer, {childList: true});\n",
       "}}\n",
       "\n",
       "// Listen for the clearing of the current output cell\n",
       "var outputEl = gd.closest('.output');\n",
       "if (outputEl) {{\n",
       "    x.observe(outputEl, {childList: true});\n",
       "}}\n",
       "\n",
       "                        })                };                });            </script>        </div>"
      ]
     },
     "metadata": {},
     "output_type": "display_data"
    }
   ],
   "source": [
    "class DataVisualization:\n",
    "    \n",
    "    def according_to_sp(self,dataset,y):\n",
    "        fig = px.bar(dataset, x = \"Transmission\", y = y, color=\"Transmission\",\n",
    "                     facet_col=\"Fuel_Type\",)\n",
    "        fig.show()\n",
    "        \n",
    "    def according_to_p_p(self,dataset,y):\n",
    "        fig = px.bar(dataset, x = \"Transmission\", y = y, color=\"Transmission\",\n",
    "                     facet_col=\"Fuel_Type\",)\n",
    "        fig.show()\n",
    "\n",
    "'''\n",
    "    def according_to_sp(self,dataset,y):\n",
    "        feature_lst = ['Fuel_Type','Transmission','Seller_Type']\n",
    "        plt.figure(figsize=(16,6))\n",
    "        for i in range(1,4):\n",
    "            plt.subplot(1,3,i)\n",
    "            for k in feature_lst:\n",
    "                sns.barplot(x = k , y = y , data = dataset)\n",
    "        plt.show()\n",
    "                \n",
    "    def according_to_cp(self,dataset,a,b,c,y):\n",
    "        feature_lst = ['Fuel_Type','Transmission','Seller_Type']\n",
    "        plt.figure(figsize=(16,6))\n",
    "        for i in range(1,4):\n",
    "            plt.subplot(2,5,(2-i))\n",
    "            for k in feature_lst:\n",
    "                sns.barplot(x = k , y = y , data = dataset)\n",
    "        plt.show()\n",
    "'''\n",
    "d = DataVisualization()\n",
    "d.according_to_sp(car_data,'Selling_Price')\n",
    "d.according_to_p_p(car_data,'Present_Price')"
   ]
  },
  {
   "cell_type": "code",
   "execution_count": 5,
   "metadata": {},
   "outputs": [],
   "source": [
    "x = new_car_dataset.drop('Selling_Price',axis = 1)\n",
    "y = new_car_dataset['Selling_Price']"
   ]
  },
  {
   "cell_type": "code",
   "execution_count": 6,
   "metadata": {},
   "outputs": [
    {
     "data": {
      "image/png": "[encoded data removed]",
      "text/plain": [
       "<Figure size 720x576 with 1 Axes>"
      ]
     },
     "metadata": {
      "needs_background": "light"
     },
     "output_type": "display_data"
    }
   ],
   "source": [
    "model = ExtraTreesRegressor()\n",
    "class FeatureSelection:\n",
    "    def feature_importance(self,x,y):\n",
    "        model.fit(x,y)\n",
    "        self.best_features = model.feature_importances_\n",
    "    def visualize_important_features(self):\n",
    "        plt.figure(figsize=(10,8))\n",
    "        features = pd.Series(self.best_features,x.columns)\n",
    "        features.nlargest(5).plot(kind = 'bar' , rot = 0 )\n",
    "    def splitting_the_data(self,x,y):\n",
    "        return train_test_split(x,y , test_size = 0.2)\n",
    "f = FeatureSelection()\n",
    "f.feature_importance(x,y)\n",
    "f.visualize_important_features()\n",
    "train_x , test_x , train_y , test_y = f.splitting_the_data(x,y) "
   ]
  },
  {
   "cell_type": "code",
   "execution_count": 7,
   "metadata": {},
   "outputs": [],
   "source": [
    "x_new = new_car_dataset[['Present_Price','Fuel_Type_Diesel','Transmission_Manual','Seller_Type_Individual','Difference']]\n",
    "feature_train_x , feature_test_x , feature_train_y , feature_test_y = train_test_split(x_new,y , test_size = 0.2)"
   ]
  },
  {
   "cell_type": "code",
   "execution_count": 8,
   "metadata": {},
   "outputs": [],
   "source": [
    "rfr_model = RandomForestRegressor()\n",
    "n_estimators = [int(x) for x in np.linspace(start = 100 , stop = 1200 , num = 12)]\n",
    "max_features = ['auto','sqrt']\n",
    "max_depth = [int(x) for x in np.linspace(5 , 30 , num = 6)]\n",
    "min_samples_split = [2,5,10,15,100]\n",
    "min_samples_leaf = [1,2,5,10]"
   ]
  },
  {
   "cell_type": "code",
   "execution_count": 9,
   "metadata": {},
   "outputs": [
    {
     "name": "stdout",
     "output_type": "stream",
     "text": [
      "Fitting 5 folds for each of 10 candidates, totalling 50 fits\n"
     ]
    },
    {
     "name": "stderr",
     "output_type": "stream",
     "text": [
      "[Parallel(n_jobs=-1)]: Using backend LokyBackend with 4 concurrent workers.\n",
      "[Parallel(n_jobs=-1)]: Done  33 tasks      | elapsed:   17.2s\n",
      "[Parallel(n_jobs=-1)]: Done  50 out of  50 | elapsed:   22.8s finished\n"
     ]
    },
    {
     "name": "stdout",
     "output_type": "stream",
     "text": [
      "Fitting 5 folds for each of 10 candidates, totalling 50 fits\n"
     ]
    },
    {
     "name": "stderr",
     "output_type": "stream",
     "text": [
      "[Parallel(n_jobs=-1)]: Using backend LokyBackend with 4 concurrent workers.\n",
      "[Parallel(n_jobs=-1)]: Done  33 tasks      | elapsed:   20.5s\n",
      "[Parallel(n_jobs=-1)]: Done  50 out of  50 | elapsed:   28.4s finished\n"
     ]
    }
   ],
   "source": [
    "random_grid = {\n",
    "                  'n_estimators' : n_estimators,\n",
    "                  'max_features' : max_features,\n",
    "                  'max_depth'    : max_depth,\n",
    "                  'min_samples_split' : min_samples_split,\n",
    "                  'min_samples_leaf'  : min_samples_leaf }\n",
    "\n",
    "def hyperparameter_rsc(classifier,estimator,x,y):\n",
    "    rf_random = RandomizedSearchCV(estimator = rfr_model , param_distributions = random_grid , scoring = 'neg_mean_squared_error',\n",
    "                              n_iter = 10 , cv = 5 , verbose = 2 , random_state = 42 , n_jobs = -1)\n",
    "    rf_fit = rf_random.fit(x,y)\n",
    "    ht_params = rf_fit.best_params_\n",
    "    ht_score = rf_fit.best_score_\n",
    "    ht_estimator = rf_fit.best_estimator_\n",
    "    return ht_params , ht_score , ht_estimator\n",
    "rf_estimator , rf_ht_score , rf_ht_estimator = hyperparameter_rsc(rfr_model , random_grid ,x ,y)\n",
    "new_feature_estimator , new_ht_score , new_estimator = hyperparameter_rsc(rfr_model , random_grid , x_new,y)"
   ]
  },
  {
   "cell_type": "code",
   "execution_count": 10,
   "metadata": {},
   "outputs": [
    {
     "name": "stdout",
     "output_type": "stream",
     "text": [
      "RandomForestRegressor(max_depth=25, max_features='sqrt', n_estimators=1000)\n",
      "-----------------------------\n",
      "RandomForestRegressor(max_depth=25, max_features='sqrt', n_estimators=1000)\n"
     ]
    }
   ],
   "source": [
    "print(rf_ht_estimator)\n",
    "print('-----------------------------')\n",
    "print(new_estimator)"
   ]
  },
  {
   "cell_type": "code",
   "execution_count": 11,
   "metadata": {},
   "outputs": [
    {
     "name": "stdout",
     "output_type": "stream",
     "text": [
      "value for MSE :  4.205149623639311 : fitting score :  0.8847520076203693\n",
      "value for MSE :  2.588300482318292 : fitting score :  0.9037135319908883\n"
     ]
    }
   ],
   "source": [
    "class Predict:\n",
    "    \n",
    "    def fit_the_model(self,x,y):\n",
    "        classifier1 = rf_ht_estimator\n",
    "        fit1 = classifier1.fit(x , y)\n",
    "        self.predict1 = fit1.predict(test_x)\n",
    "        \n",
    "    def predict_the_score(self,x):\n",
    "        self.fit_the_model(train_x,train_y)\n",
    "        total_error = mean_squared_error(x,self.predict1)\n",
    "        fitting_score = r2_score(x,self.predict1)\n",
    "        abs_error = mean_squared_error(x,self.predict1)\n",
    "        return total_error , fitting_score , abs_error\n",
    "    \n",
    "    def fit_model_with_selected_features(self,x,y):\n",
    "        classifier2 = new_estimator\n",
    "        fit2 = classifier2.fit(x,y)\n",
    "        self.predict2 = fit2.predict(feature_test_x)\n",
    "        \n",
    "    def predict_the_score_with_features(self,x):\n",
    "        self.fit_model_with_selected_features(feature_train_x,feature_train_y)\n",
    "        total_error = mean_squared_error(x,self.predict2)\n",
    "        fitting_score = r2_score(x,self.predict2)\n",
    "        abs_error = mean_squared_error(x,self.predict2)\n",
    "        return total_error , fitting_score , abs_error\n",
    "        \n",
    "    \n",
    "\n",
    "p = Predict()\n",
    "error , score , abs_error = p.predict_the_score(test_y)\n",
    "error_new , score_new , abs_error_new = p.predict_the_score_with_features(feature_test_y)\n",
    "print('value for MSE : ',error ,':','fitting score : ',score)\n",
    "print('value for MSE : ',error_new ,':','fitting score : ',score_new)"
   ]
  },
  {
   "cell_type": "code",
   "execution_count": null,
   "metadata": {},
   "outputs": [],
   "source": []
  },
  {
   "cell_type": "code",
   "execution_count": null,
   "metadata": {},
   "outputs": [],
   "source": []
  },
  {
   "cell_type": "code",
   "execution_count": null,
   "metadata": {},
   "outputs": [],
   "source": []
  }
 ],
 "metadata": {
  "kernelspec": {
   "display_name": "Python 3",
   "language": "python",
   "name": "python3"
  },
  "language_info": {
   "codemirror_mode": {
    "name": "ipython",
    "version": 3
   },
   "file_extension": ".py",
   "mimetype": "text/x-python",
   "name": "python",
   "nbconvert_exporter": "python",
   "pygments_lexer": "ipython3",
   "version": "3.8.3"
  }
 },
 "nbformat": 4,
 "nbformat_minor": 4
}
